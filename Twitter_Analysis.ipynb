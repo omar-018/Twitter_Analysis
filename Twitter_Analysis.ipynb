{
 "cells": [
  {
   "cell_type": "markdown",
   "metadata": {},
   "source": [
    "### **Imports & Getting the Data**"
   ]
  },
  {
   "cell_type": "code",
   "execution_count": 1,
   "metadata": {},
   "outputs": [],
   "source": [
    "import pandas as pd \n",
    "import nltk\n",
    "import re\n",
    "import spacy\n",
    "from nltk.corpus import stopwords\n",
    "from nltk.stem import WordNetLemmatizer\n",
    "from gensim.models import Word2Vec\n",
    "import numpy as np\n",
    "import seaborn as sns\n",
    "import matplotlib.pyplot as plt\n",
    "import warnings\n",
    "warnings.filterwarnings('ignore')\n",
    "wnl = WordNetLemmatizer()\n",
    "sns.set_style('darkgrid')\n",
    "sns.set_palette('mako')"
   ]
  },
  {
   "cell_type": "code",
   "execution_count": 2,
   "metadata": {},
   "outputs": [],
   "source": [
    "df = pd.read_excel(\"tweet_cluster3.xlsx\", index_col = None, na_values = ['NA'], usecols = 'F, O:AB, AH') # getting only the columns that are needed\n",
    "df = df.fillna(0) # filling the NaN values with 0\n",
    "df.iloc[:, 2:] = df.iloc[:, 2:].astype(int) # converting the values to int\n",
    "df.loc[df['cause'] == 98, 'Uncategorized 99'] = 1 # converting invalid cause 98 to Uncategorized 99\n",
    "df['cause'] = df['cause'].replace(98, 99) "
   ]
  },
  {
   "cell_type": "markdown",
   "metadata": {},
   "source": [
    "### **Data/text pre-processing**"
   ]
  },
  {
   "cell_type": "code",
   "execution_count": 3,
   "metadata": {},
   "outputs": [],
   "source": [
    "# renaming the columns to make it easier to work with\n",
    "rename_cols_dict = {\n",
    "    'Twitter @ Name' : '@name',\n",
    "    'Tweet_tokenized' : 'tweet',\n",
    "    'Covid 19: China Virus 1' : '1',\n",
    "    'Anti-Asian Racism 2' : '2',\n",
    "    'Xenophobia (insulting foreigners: invasion) 3' : '3',\n",
    "    'Anti-Black racism 4' : '4',\n",
    "    'Islamophobia 5' : '5',\n",
    "    'White identity politics (white supremacy, great replacement theory, denuncing white genocide and multiculturalism, deconstruction of white privilege) 6' : '6',\n",
    "    'Pro-Trump, republican, patriot (?), Trump rhetoric (ex: Fakenews) 7' : '7',\n",
    "    'Pro-Wall or/and Anti-immigration 8' : '8',\n",
    "    'Elections/governmental politics 9' : '9',\n",
    "    'Antifa, denunciation of white privilege, anti-Trump, Nashville explosion label, 10' : '10',\n",
    "    'Calls for Action 11' : '11',\n",
    "    'Non-US: South Africa, UK, 12' : '12',\n",
    "    'Uncategorized 99' : '99',\n",
    "    }\n",
    "df.rename(columns = rename_cols_dict, inplace = True)"
   ]
  },
  {
   "cell_type": "code",
   "execution_count": 4,
   "metadata": {},
   "outputs": [],
   "source": [
    "# tweets not really stored as lists, so converting them to lists\n",
    "df['tweet'] = df['tweet'].apply(lambda x: re.sub(r'[^a-zA-Z0-9\\s]', '', x))\n",
    "df['tweet'] = df['tweet'].apply(lambda x: x.strip())"
   ]
  },
  {
   "cell_type": "code",
   "execution_count": 5,
   "metadata": {},
   "outputs": [],
   "source": [
    "# Edit accordingly but takes a while to run\n",
    "pos_tags = [\"ADJ\", \"NOUN\", \"VERB\"]\n",
    "# Function to lemmatize the tweets\n",
    "def lemmatize_with_tag(text, pos_tags = pos_tags):\n",
    "    nlp = spacy.load(\"en_core_web_sm\", disable=[\"parser\", \"ner\"])\n",
    "    tagged_text = []\n",
    "    doc = nlp(text)\n",
    "    for token in doc:\n",
    "        if token.pos_ in pos_tags:\n",
    "            tagged_text.append(token.lemma_)\n",
    "        else:\n",
    "            tagged_text.append(token.text)\n",
    "    return(' '.join(tagged_text))"
   ]
  },
  {
   "cell_type": "code",
   "execution_count": 6,
   "metadata": {},
   "outputs": [],
   "source": [
    "# Storing stop words as a list\n",
    "remove_stop_words = stopwords.words('english')"
   ]
  },
  {
   "cell_type": "code",
   "execution_count": 7,
   "metadata": {},
   "outputs": [],
   "source": [
    "# Explicitly removing stopwords\n",
    "df['tweet'] = df['tweet'].apply(lambda x: ' '.join([word for word in x.split() if word not in (remove_stop_words)]))\n",
    "# Lemmatizing the tweets with POS tagging\n",
    "df['tweet'] = df['tweet'].apply(lambda x: lemmatize_with_tag(x))"
   ]
  },
  {
   "cell_type": "markdown",
   "metadata": {},
   "source": [
    "### **Exploratory Data Analysis**"
   ]
  },
  {
   "cell_type": "code",
   "execution_count": 8,
   "metadata": {},
   "outputs": [
    {
     "data": {
      "text/html": [
       "<style type=\"text/css\">\n",
       "#T_68fd5_row0_col9, #T_68fd5_row1_col9, #T_68fd5_row2_col9, #T_68fd5_row3_col9, #T_68fd5_row4_col9, #T_68fd5_row5_col9, #T_68fd5_row6_col9, #T_68fd5_row7_col9, #T_68fd5_row8_col9, #T_68fd5_row9_col9 {\n",
       "  background-color: maroon;\n",
       "}\n",
       "</style>\n",
       "<table id=\"T_68fd5\">\n",
       "  <thead>\n",
       "    <tr>\n",
       "      <th class=\"blank level0\" >&nbsp;</th>\n",
       "      <th id=\"T_68fd5_level0_col0\" class=\"col_heading level0 col0\" >@name</th>\n",
       "      <th id=\"T_68fd5_level0_col1\" class=\"col_heading level0 col1\" >tweet</th>\n",
       "      <th id=\"T_68fd5_level0_col2\" class=\"col_heading level0 col2\" >1</th>\n",
       "      <th id=\"T_68fd5_level0_col3\" class=\"col_heading level0 col3\" >2</th>\n",
       "      <th id=\"T_68fd5_level0_col4\" class=\"col_heading level0 col4\" >3</th>\n",
       "      <th id=\"T_68fd5_level0_col5\" class=\"col_heading level0 col5\" >4</th>\n",
       "      <th id=\"T_68fd5_level0_col6\" class=\"col_heading level0 col6\" >5</th>\n",
       "      <th id=\"T_68fd5_level0_col7\" class=\"col_heading level0 col7\" >6</th>\n",
       "      <th id=\"T_68fd5_level0_col8\" class=\"col_heading level0 col8\" >7</th>\n",
       "      <th id=\"T_68fd5_level0_col9\" class=\"col_heading level0 col9\" >8</th>\n",
       "      <th id=\"T_68fd5_level0_col10\" class=\"col_heading level0 col10\" >9</th>\n",
       "      <th id=\"T_68fd5_level0_col11\" class=\"col_heading level0 col11\" >10</th>\n",
       "      <th id=\"T_68fd5_level0_col12\" class=\"col_heading level0 col12\" >11</th>\n",
       "      <th id=\"T_68fd5_level0_col13\" class=\"col_heading level0 col13\" >12</th>\n",
       "      <th id=\"T_68fd5_level0_col14\" class=\"col_heading level0 col14\" >99</th>\n",
       "      <th id=\"T_68fd5_level0_col15\" class=\"col_heading level0 col15\" >cause</th>\n",
       "    </tr>\n",
       "  </thead>\n",
       "  <tbody>\n",
       "    <tr>\n",
       "      <th id=\"T_68fd5_level0_row0\" class=\"row_heading level0 row0\" >0</th>\n",
       "      <td id=\"T_68fd5_row0_col0\" class=\"data row0 col0\" >LadyRedWave</td>\n",
       "      <td id=\"T_68fd5_row0_col1\" class=\"data row0 col1\" >ppl suppose welcome open arm think buildthewall</td>\n",
       "      <td id=\"T_68fd5_row0_col2\" class=\"data row0 col2\" >0</td>\n",
       "      <td id=\"T_68fd5_row0_col3\" class=\"data row0 col3\" >0</td>\n",
       "      <td id=\"T_68fd5_row0_col4\" class=\"data row0 col4\" >0</td>\n",
       "      <td id=\"T_68fd5_row0_col5\" class=\"data row0 col5\" >0</td>\n",
       "      <td id=\"T_68fd5_row0_col6\" class=\"data row0 col6\" >0</td>\n",
       "      <td id=\"T_68fd5_row0_col7\" class=\"data row0 col7\" >0</td>\n",
       "      <td id=\"T_68fd5_row0_col8\" class=\"data row0 col8\" >0</td>\n",
       "      <td id=\"T_68fd5_row0_col9\" class=\"data row0 col9\" >1</td>\n",
       "      <td id=\"T_68fd5_row0_col10\" class=\"data row0 col10\" >0</td>\n",
       "      <td id=\"T_68fd5_row0_col11\" class=\"data row0 col11\" >0</td>\n",
       "      <td id=\"T_68fd5_row0_col12\" class=\"data row0 col12\" >0</td>\n",
       "      <td id=\"T_68fd5_row0_col13\" class=\"data row0 col13\" >0</td>\n",
       "      <td id=\"T_68fd5_row0_col14\" class=\"data row0 col14\" >0</td>\n",
       "      <td id=\"T_68fd5_row0_col15\" class=\"data row0 col15\" >8</td>\n",
       "    </tr>\n",
       "    <tr>\n",
       "      <th id=\"T_68fd5_level0_row1\" class=\"row_heading level0 row1\" >1</th>\n",
       "      <td id=\"T_68fd5_row1_col0\" class=\"data row1 col0\" >almostjingo</td>\n",
       "      <td id=\"T_68fd5_row1_col1\" class=\"data row1 col1\" >pretty safe say catch release ag session lay law border buildthewall</td>\n",
       "      <td id=\"T_68fd5_row1_col2\" class=\"data row1 col2\" >0</td>\n",
       "      <td id=\"T_68fd5_row1_col3\" class=\"data row1 col3\" >0</td>\n",
       "      <td id=\"T_68fd5_row1_col4\" class=\"data row1 col4\" >0</td>\n",
       "      <td id=\"T_68fd5_row1_col5\" class=\"data row1 col5\" >0</td>\n",
       "      <td id=\"T_68fd5_row1_col6\" class=\"data row1 col6\" >0</td>\n",
       "      <td id=\"T_68fd5_row1_col7\" class=\"data row1 col7\" >0</td>\n",
       "      <td id=\"T_68fd5_row1_col8\" class=\"data row1 col8\" >0</td>\n",
       "      <td id=\"T_68fd5_row1_col9\" class=\"data row1 col9\" >1</td>\n",
       "      <td id=\"T_68fd5_row1_col10\" class=\"data row1 col10\" >0</td>\n",
       "      <td id=\"T_68fd5_row1_col11\" class=\"data row1 col11\" >0</td>\n",
       "      <td id=\"T_68fd5_row1_col12\" class=\"data row1 col12\" >0</td>\n",
       "      <td id=\"T_68fd5_row1_col13\" class=\"data row1 col13\" >0</td>\n",
       "      <td id=\"T_68fd5_row1_col14\" class=\"data row1 col14\" >0</td>\n",
       "      <td id=\"T_68fd5_row1_col15\" class=\"data row1 col15\" >8</td>\n",
       "    </tr>\n",
       "    <tr>\n",
       "      <th id=\"T_68fd5_level0_row2\" class=\"row_heading level0 row2\" >2</th>\n",
       "      <td id=\"T_68fd5_row2_col0\" class=\"data row2 col0\" >almostjingo</td>\n",
       "      <td id=\"T_68fd5_row2_col1\" class=\"data row2 col1\" >pretty safe say catch release ag session lay law border buildthewall</td>\n",
       "      <td id=\"T_68fd5_row2_col2\" class=\"data row2 col2\" >0</td>\n",
       "      <td id=\"T_68fd5_row2_col3\" class=\"data row2 col3\" >0</td>\n",
       "      <td id=\"T_68fd5_row2_col4\" class=\"data row2 col4\" >0</td>\n",
       "      <td id=\"T_68fd5_row2_col5\" class=\"data row2 col5\" >0</td>\n",
       "      <td id=\"T_68fd5_row2_col6\" class=\"data row2 col6\" >0</td>\n",
       "      <td id=\"T_68fd5_row2_col7\" class=\"data row2 col7\" >0</td>\n",
       "      <td id=\"T_68fd5_row2_col8\" class=\"data row2 col8\" >0</td>\n",
       "      <td id=\"T_68fd5_row2_col9\" class=\"data row2 col9\" >1</td>\n",
       "      <td id=\"T_68fd5_row2_col10\" class=\"data row2 col10\" >0</td>\n",
       "      <td id=\"T_68fd5_row2_col11\" class=\"data row2 col11\" >0</td>\n",
       "      <td id=\"T_68fd5_row2_col12\" class=\"data row2 col12\" >0</td>\n",
       "      <td id=\"T_68fd5_row2_col13\" class=\"data row2 col13\" >0</td>\n",
       "      <td id=\"T_68fd5_row2_col14\" class=\"data row2 col14\" >0</td>\n",
       "      <td id=\"T_68fd5_row2_col15\" class=\"data row2 col15\" >8</td>\n",
       "    </tr>\n",
       "    <tr>\n",
       "      <th id=\"T_68fd5_level0_row3\" class=\"row_heading level0 row3\" >3</th>\n",
       "      <td id=\"T_68fd5_row3_col0\" class=\"data row3 col0\" >CortesSteve</td>\n",
       "      <td id=\"T_68fd5_row3_col1\" class=\"data row3 col1\" >border wall protect america jobs arizona win win chalktalk buildthewall</td>\n",
       "      <td id=\"T_68fd5_row3_col2\" class=\"data row3 col2\" >0</td>\n",
       "      <td id=\"T_68fd5_row3_col3\" class=\"data row3 col3\" >0</td>\n",
       "      <td id=\"T_68fd5_row3_col4\" class=\"data row3 col4\" >0</td>\n",
       "      <td id=\"T_68fd5_row3_col5\" class=\"data row3 col5\" >0</td>\n",
       "      <td id=\"T_68fd5_row3_col6\" class=\"data row3 col6\" >0</td>\n",
       "      <td id=\"T_68fd5_row3_col7\" class=\"data row3 col7\" >0</td>\n",
       "      <td id=\"T_68fd5_row3_col8\" class=\"data row3 col8\" >0</td>\n",
       "      <td id=\"T_68fd5_row3_col9\" class=\"data row3 col9\" >1</td>\n",
       "      <td id=\"T_68fd5_row3_col10\" class=\"data row3 col10\" >0</td>\n",
       "      <td id=\"T_68fd5_row3_col11\" class=\"data row3 col11\" >0</td>\n",
       "      <td id=\"T_68fd5_row3_col12\" class=\"data row3 col12\" >0</td>\n",
       "      <td id=\"T_68fd5_row3_col13\" class=\"data row3 col13\" >0</td>\n",
       "      <td id=\"T_68fd5_row3_col14\" class=\"data row3 col14\" >0</td>\n",
       "      <td id=\"T_68fd5_row3_col15\" class=\"data row3 col15\" >8</td>\n",
       "    </tr>\n",
       "    <tr>\n",
       "      <th id=\"T_68fd5_level0_row4\" class=\"row_heading level0 row4\" >4</th>\n",
       "      <td id=\"T_68fd5_row4_col0\" class=\"data row4 col0\" >CortesSteve</td>\n",
       "      <td id=\"T_68fd5_row4_col1\" class=\"data row4 col1\" >border wall protect america jobs arizona win win chalktalk buildthewall</td>\n",
       "      <td id=\"T_68fd5_row4_col2\" class=\"data row4 col2\" >0</td>\n",
       "      <td id=\"T_68fd5_row4_col3\" class=\"data row4 col3\" >0</td>\n",
       "      <td id=\"T_68fd5_row4_col4\" class=\"data row4 col4\" >0</td>\n",
       "      <td id=\"T_68fd5_row4_col5\" class=\"data row4 col5\" >0</td>\n",
       "      <td id=\"T_68fd5_row4_col6\" class=\"data row4 col6\" >0</td>\n",
       "      <td id=\"T_68fd5_row4_col7\" class=\"data row4 col7\" >0</td>\n",
       "      <td id=\"T_68fd5_row4_col8\" class=\"data row4 col8\" >0</td>\n",
       "      <td id=\"T_68fd5_row4_col9\" class=\"data row4 col9\" >1</td>\n",
       "      <td id=\"T_68fd5_row4_col10\" class=\"data row4 col10\" >0</td>\n",
       "      <td id=\"T_68fd5_row4_col11\" class=\"data row4 col11\" >0</td>\n",
       "      <td id=\"T_68fd5_row4_col12\" class=\"data row4 col12\" >0</td>\n",
       "      <td id=\"T_68fd5_row4_col13\" class=\"data row4 col13\" >0</td>\n",
       "      <td id=\"T_68fd5_row4_col14\" class=\"data row4 col14\" >0</td>\n",
       "      <td id=\"T_68fd5_row4_col15\" class=\"data row4 col15\" >8</td>\n",
       "    </tr>\n",
       "    <tr>\n",
       "      <th id=\"T_68fd5_level0_row5\" class=\"row_heading level0 row5\" >5</th>\n",
       "      <td id=\"T_68fd5_row5_col0\" class=\"data row5 col0\" >ianbremmer</td>\n",
       "      <td id=\"T_68fd5_row5_col1\" class=\"data row5 col1\" >trump 2016 buildthewall biden 2020 countthemall</td>\n",
       "      <td id=\"T_68fd5_row5_col2\" class=\"data row5 col2\" >0</td>\n",
       "      <td id=\"T_68fd5_row5_col3\" class=\"data row5 col3\" >0</td>\n",
       "      <td id=\"T_68fd5_row5_col4\" class=\"data row5 col4\" >0</td>\n",
       "      <td id=\"T_68fd5_row5_col5\" class=\"data row5 col5\" >0</td>\n",
       "      <td id=\"T_68fd5_row5_col6\" class=\"data row5 col6\" >0</td>\n",
       "      <td id=\"T_68fd5_row5_col7\" class=\"data row5 col7\" >0</td>\n",
       "      <td id=\"T_68fd5_row5_col8\" class=\"data row5 col8\" >0</td>\n",
       "      <td id=\"T_68fd5_row5_col9\" class=\"data row5 col9\" >1</td>\n",
       "      <td id=\"T_68fd5_row5_col10\" class=\"data row5 col10\" >0</td>\n",
       "      <td id=\"T_68fd5_row5_col11\" class=\"data row5 col11\" >0</td>\n",
       "      <td id=\"T_68fd5_row5_col12\" class=\"data row5 col12\" >0</td>\n",
       "      <td id=\"T_68fd5_row5_col13\" class=\"data row5 col13\" >0</td>\n",
       "      <td id=\"T_68fd5_row5_col14\" class=\"data row5 col14\" >0</td>\n",
       "      <td id=\"T_68fd5_row5_col15\" class=\"data row5 col15\" >8</td>\n",
       "    </tr>\n",
       "    <tr>\n",
       "      <th id=\"T_68fd5_level0_row6\" class=\"row_heading level0 row6\" >6</th>\n",
       "      <td id=\"T_68fd5_row6_col0\" class=\"data row6 col0\" >ianbremmer</td>\n",
       "      <td id=\"T_68fd5_row6_col1\" class=\"data row6 col1\" >trump 2016 buildthewall biden 2020 countthemall</td>\n",
       "      <td id=\"T_68fd5_row6_col2\" class=\"data row6 col2\" >0</td>\n",
       "      <td id=\"T_68fd5_row6_col3\" class=\"data row6 col3\" >0</td>\n",
       "      <td id=\"T_68fd5_row6_col4\" class=\"data row6 col4\" >0</td>\n",
       "      <td id=\"T_68fd5_row6_col5\" class=\"data row6 col5\" >0</td>\n",
       "      <td id=\"T_68fd5_row6_col6\" class=\"data row6 col6\" >0</td>\n",
       "      <td id=\"T_68fd5_row6_col7\" class=\"data row6 col7\" >0</td>\n",
       "      <td id=\"T_68fd5_row6_col8\" class=\"data row6 col8\" >0</td>\n",
       "      <td id=\"T_68fd5_row6_col9\" class=\"data row6 col9\" >1</td>\n",
       "      <td id=\"T_68fd5_row6_col10\" class=\"data row6 col10\" >0</td>\n",
       "      <td id=\"T_68fd5_row6_col11\" class=\"data row6 col11\" >0</td>\n",
       "      <td id=\"T_68fd5_row6_col12\" class=\"data row6 col12\" >0</td>\n",
       "      <td id=\"T_68fd5_row6_col13\" class=\"data row6 col13\" >0</td>\n",
       "      <td id=\"T_68fd5_row6_col14\" class=\"data row6 col14\" >0</td>\n",
       "      <td id=\"T_68fd5_row6_col15\" class=\"data row6 col15\" >8</td>\n",
       "    </tr>\n",
       "    <tr>\n",
       "      <th id=\"T_68fd5_level0_row7\" class=\"row_heading level0 row7\" >7</th>\n",
       "      <td id=\"T_68fd5_row7_col0\" class=\"data row7 col0\" >LadyRedWave</td>\n",
       "      <td id=\"T_68fd5_row7_col1\" class=\"data row7 col1\" >excellent keep go make long amp tall buildthewall protectamericansovereignty protectourborder section</td>\n",
       "      <td id=\"T_68fd5_row7_col2\" class=\"data row7 col2\" >0</td>\n",
       "      <td id=\"T_68fd5_row7_col3\" class=\"data row7 col3\" >0</td>\n",
       "      <td id=\"T_68fd5_row7_col4\" class=\"data row7 col4\" >0</td>\n",
       "      <td id=\"T_68fd5_row7_col5\" class=\"data row7 col5\" >0</td>\n",
       "      <td id=\"T_68fd5_row7_col6\" class=\"data row7 col6\" >0</td>\n",
       "      <td id=\"T_68fd5_row7_col7\" class=\"data row7 col7\" >0</td>\n",
       "      <td id=\"T_68fd5_row7_col8\" class=\"data row7 col8\" >0</td>\n",
       "      <td id=\"T_68fd5_row7_col9\" class=\"data row7 col9\" >1</td>\n",
       "      <td id=\"T_68fd5_row7_col10\" class=\"data row7 col10\" >0</td>\n",
       "      <td id=\"T_68fd5_row7_col11\" class=\"data row7 col11\" >0</td>\n",
       "      <td id=\"T_68fd5_row7_col12\" class=\"data row7 col12\" >0</td>\n",
       "      <td id=\"T_68fd5_row7_col13\" class=\"data row7 col13\" >0</td>\n",
       "      <td id=\"T_68fd5_row7_col14\" class=\"data row7 col14\" >0</td>\n",
       "      <td id=\"T_68fd5_row7_col15\" class=\"data row7 col15\" >8</td>\n",
       "    </tr>\n",
       "    <tr>\n",
       "      <th id=\"T_68fd5_level0_row8\" class=\"row_heading level0 row8\" >8</th>\n",
       "      <td id=\"T_68fd5_row8_col0\" class=\"data row8 col0\" >LadyRedWave</td>\n",
       "      <td id=\"T_68fd5_row8_col1\" class=\"data row8 col1\" >excellent keep go make long amp tall buildthewall protectamericansovereignty protectourborder section</td>\n",
       "      <td id=\"T_68fd5_row8_col2\" class=\"data row8 col2\" >0</td>\n",
       "      <td id=\"T_68fd5_row8_col3\" class=\"data row8 col3\" >0</td>\n",
       "      <td id=\"T_68fd5_row8_col4\" class=\"data row8 col4\" >0</td>\n",
       "      <td id=\"T_68fd5_row8_col5\" class=\"data row8 col5\" >0</td>\n",
       "      <td id=\"T_68fd5_row8_col6\" class=\"data row8 col6\" >0</td>\n",
       "      <td id=\"T_68fd5_row8_col7\" class=\"data row8 col7\" >0</td>\n",
       "      <td id=\"T_68fd5_row8_col8\" class=\"data row8 col8\" >0</td>\n",
       "      <td id=\"T_68fd5_row8_col9\" class=\"data row8 col9\" >1</td>\n",
       "      <td id=\"T_68fd5_row8_col10\" class=\"data row8 col10\" >0</td>\n",
       "      <td id=\"T_68fd5_row8_col11\" class=\"data row8 col11\" >0</td>\n",
       "      <td id=\"T_68fd5_row8_col12\" class=\"data row8 col12\" >0</td>\n",
       "      <td id=\"T_68fd5_row8_col13\" class=\"data row8 col13\" >0</td>\n",
       "      <td id=\"T_68fd5_row8_col14\" class=\"data row8 col14\" >0</td>\n",
       "      <td id=\"T_68fd5_row8_col15\" class=\"data row8 col15\" >8</td>\n",
       "    </tr>\n",
       "    <tr>\n",
       "      <th id=\"T_68fd5_level0_row9\" class=\"row_heading level0 row9\" >9</th>\n",
       "      <td id=\"T_68fd5_row9_col0\" class=\"data row9 col0\" >ChitownJewrean1</td>\n",
       "      <td id=\"T_68fd5_row9_col1\" class=\"data row9 col1\" >look americafirst buildthewall secureourborder trumprally rsbn dictionary see blake</td>\n",
       "      <td id=\"T_68fd5_row9_col2\" class=\"data row9 col2\" >0</td>\n",
       "      <td id=\"T_68fd5_row9_col3\" class=\"data row9 col3\" >0</td>\n",
       "      <td id=\"T_68fd5_row9_col4\" class=\"data row9 col4\" >0</td>\n",
       "      <td id=\"T_68fd5_row9_col5\" class=\"data row9 col5\" >0</td>\n",
       "      <td id=\"T_68fd5_row9_col6\" class=\"data row9 col6\" >0</td>\n",
       "      <td id=\"T_68fd5_row9_col7\" class=\"data row9 col7\" >0</td>\n",
       "      <td id=\"T_68fd5_row9_col8\" class=\"data row9 col8\" >0</td>\n",
       "      <td id=\"T_68fd5_row9_col9\" class=\"data row9 col9\" >1</td>\n",
       "      <td id=\"T_68fd5_row9_col10\" class=\"data row9 col10\" >0</td>\n",
       "      <td id=\"T_68fd5_row9_col11\" class=\"data row9 col11\" >0</td>\n",
       "      <td id=\"T_68fd5_row9_col12\" class=\"data row9 col12\" >0</td>\n",
       "      <td id=\"T_68fd5_row9_col13\" class=\"data row9 col13\" >0</td>\n",
       "      <td id=\"T_68fd5_row9_col14\" class=\"data row9 col14\" >0</td>\n",
       "      <td id=\"T_68fd5_row9_col15\" class=\"data row9 col15\" >8</td>\n",
       "    </tr>\n",
       "  </tbody>\n",
       "</table>\n"
      ],
      "text/plain": [
       "<pandas.io.formats.style.Styler at 0x10771cbe0>"
      ]
     },
     "execution_count": 8,
     "metadata": {},
     "output_type": "execute_result"
    }
   ],
   "source": [
    "df.head(10).style.applymap(lambda x: 'background-color: maroon' if x == 1 else '')"
   ]
  },
  {
   "cell_type": "code",
   "execution_count": 9,
   "metadata": {},
   "outputs": [
    {
     "data": {
      "text/plain": [
       "17 reason deport many problem even get hand really want keep                                763\n",
       "wonder many people blame borisjohnson covid buying good make china whilst world struggle    267\n",
       "ask china pay 2 trillion cost chinesevirus                                                  223\n",
       "ppl suppose welcome open arm think buildthewall protectourborder pro                        219\n",
       "pretty safe say catch release ag session lay law border buildthewall protectou              153\n",
       "                                                                                           ... \n",
       "china motherland almost deadly virus world chinavirus                                         1\n",
       "agree brother buildthewall                                                                    1\n",
       "really chinavirus publicenemy                                                                 1\n",
       "buildthewall keep illegalalien                                                                1\n",
       "trump2020 ripgrumpycat remember must go home thing kag buildthewall                           1\n",
       "Name: tweet, Length: 2661, dtype: int64"
      ]
     },
     "execution_count": 9,
     "metadata": {},
     "output_type": "execute_result"
    }
   ],
   "source": [
    "# Understanding the distribution of the tweets across the categories\n",
    "df['tweet'].value_counts()[:2661]"
   ]
  },
  {
   "cell_type": "code",
   "execution_count": 67,
   "metadata": {},
   "outputs": [
    {
     "data": {
      "image/png": "[encoded data removed]",
      "text/plain": [
       "<Figure size 500x500 with 1 Axes>"
      ]
     },
     "metadata": {},
     "output_type": "display_data"
    }
   ],
   "source": [
    "# Plotting graph of number of tweets per category using piechart\n",
    "fig, ax = plt.subplots(figsize = (5, 5))\n",
    "labels = df.columns[2:15]\n",
    "sizes = df.iloc[:, 2:15].sum().values\n",
    "labels = [f'{labels[i]}: {sizes[i]}' for i in range(len(labels))]\n",
    "df.iloc[:, 2:15].sum().plot(kind = 'pie', ax = ax, colors = sns.color_palette('Accent'), labels = None)\n",
    "ax.set_title('Number of Tweets per Category', fontsize = 10, fontweight = 'bold')\n",
    "ax.set_ylabel('')\n",
    "ax.legend(labels = labels, loc = 'center left', bbox_to_anchor = (1, 0.5), fontsize = 8)\n",
    "plt.show()"
   ]
  },
  {
   "cell_type": "code",
   "execution_count": 11,
   "metadata": {},
   "outputs": [],
   "source": [
    "from sklearn.feature_extraction.text import CountVectorizer"
   ]
  },
  {
   "cell_type": "code",
   "execution_count": 12,
   "metadata": {},
   "outputs": [],
   "source": [
    "# Get top n words for any corpus\n",
    "def get_top_n_words(corpus, n = None):\n",
    "    vec = CountVectorizer().fit(corpus)\n",
    "    bag_of_words = vec.transform(corpus)\n",
    "    sum_words = bag_of_words.sum(axis = 0) \n",
    "    words_freq = [(word, sum_words[0, idx]) for word, idx in vec.vocabulary_.items()]\n",
    "    words_freq = sorted(words_freq, key = lambda x: x[1], reverse = True)\n",
    "    return words_freq[:n]"
   ]
  },
  {
   "cell_type": "code",
   "execution_count": 13,
   "metadata": {},
   "outputs": [],
   "source": [
    "# Function to make top n words for a given feature and target\n",
    "def make_top_n_words(df, text_col, target_col, n = None):\n",
    "    list_of_targets = df[target_col].sort_values().unique().tolist()\n",
    "    indices = [df[df[target_col] == cat].index.values.tolist() for cat in list_of_targets]\n",
    "    corpus = [df.loc[index][text_col].tolist() for index in indices]\n",
    "    top_n_words = [get_top_n_words(text, n) for text in corpus]\n",
    "    return top_n_words"
   ]
  },
  {
   "cell_type": "code",
   "execution_count": 14,
   "metadata": {},
   "outputs": [],
   "source": [
    "# Getting the top 20 words for each category\n",
    "top_20_w_per_cat = make_top_n_words(df, 'tweet', 'cause', 10)"
   ]
  },
  {
   "cell_type": "code",
   "execution_count": 15,
   "metadata": {},
   "outputs": [],
   "source": [
    "# Getting unique column names that are used\n",
    "columns = np.unique(df['cause'])"
   ]
  },
  {
   "cell_type": "code",
   "execution_count": 16,
   "metadata": {},
   "outputs": [
    {
     "data": {
      "text/plain": [
       "<Figure size 1000x1000 with 0 Axes>"
      ]
     },
     "metadata": {},
     "output_type": "display_data"
    },
    {
     "data": {
      "image/png": "[encoded data removed]",
      "text/plain": [
       "<Figure size 600x300 with 1 Axes>"
      ]
     },
     "metadata": {},
     "output_type": "display_data"
    },
    {
     "data": {
      "image/png": "[encoded data removed]",
      "text/plain": [
       "<Figure size 600x300 with 1 Axes>"
      ]
     },
     "metadata": {},
     "output_type": "display_data"
    },
    {
     "data": {
      "image/png": "[encoded data removed]",
      "text/plain": [
       "<Figure size 600x300 with 1 Axes>"
      ]
     },
     "metadata": {},
     "output_type": "display_data"
    },
    {
     "data": {
      "image/png": "[encoded data removed]",
      "text/plain": [
       "<Figure size 600x300 with 1 Axes>"
      ]
     },
     "metadata": {},
     "output_type": "display_data"
    },
    {
     "data": {
      "image/png": "[encoded data removed]",
      "text/plain": [
       "<Figure size 600x300 with 1 Axes>"
      ]
     },
     "metadata": {},
     "output_type": "display_data"
    },
    {
     "data": {
      "image/png": "[encoded data removed]",
      "text/plain": [
       "<Figure size 600x300 with 1 Axes>"
      ]
     },
     "metadata": {},
     "output_type": "display_data"
    },
    {
     "data": {
      "image/png": "[encoded data removed]",
      "text/plain": [
       "<Figure size 600x300 with 1 Axes>"
      ]
     },
     "metadata": {},
     "output_type": "display_data"
    },
    {
     "data": {
      "image/png": "[encoded data removed]",
      "text/plain": [
       "<Figure size 600x300 with 1 Axes>"
      ]
     },
     "metadata": {},
     "output_type": "display_data"
    },
    {
     "data": {
      "image/png": "[encoded data removed]",
      "text/plain": [
       "<Figure size 600x300 with 1 Axes>"
      ]
     },
     "metadata": {},
     "output_type": "display_data"
    }
   ],
   "source": [
    "# Plotting the top 20 words for each category\n",
    "plt.figure(figsize = (10, 10), facecolor='w')\n",
    "colors = ['#000', '#111', '#222', '#333', '#444', '#555', '#444', '#333', '#222']\n",
    "for col in range(len(columns)):\n",
    "    fig, ax = plt.subplots(figsize = (6, 3))\n",
    "    df_top_10 = pd.DataFrame(top_20_w_per_cat[col], columns = ['word', 'count'])\n",
    "    df_top_10.plot(kind = 'barh', x = 'word', y = 'count', ax = ax, color = colors[col])\n",
    "    ax.set_title(f'Top 10 Words for Category {columns[col]}', fontsize = 15, fontweight = 'bold')\n",
    "    ax.set_xlim(right = df_top_10['count'].max() + 10)\n",
    "    ax.set_ylabel('Count')\n",
    "    ax.set_xlabel('Word')\n",
    "    ax.legend().set_visible(False)\n",
    "    plt.show()"
   ]
  },
  {
   "cell_type": "code",
   "execution_count": 17,
   "metadata": {},
   "outputs": [
    {
     "data": {
      "text/plain": [
       "8"
      ]
     },
     "execution_count": 17,
     "metadata": {},
     "output_type": "execute_result"
    }
   ],
   "source": [
    "import multiprocessing\n",
    "# Counts the number of cores in the computer\n",
    "cores = multiprocessing.cpu_count()\n",
    "cores"
   ]
  },
  {
   "cell_type": "code",
   "execution_count": 18,
   "metadata": {},
   "outputs": [],
   "source": [
    "# Getting words from descriptions\n",
    "word_sent_list = []\n",
    "for sent in df['tweet']:\n",
    "    word_sent_list.append(sent.split())"
   ]
  },
  {
   "cell_type": "code",
   "execution_count": 19,
   "metadata": {},
   "outputs": [],
   "source": [
    "w2v_model = Word2Vec(word_sent_list, workers = cores - 1, min_count = 1, vector_size = 100, window = 3, epochs = 1000)\n",
    "w2v_tweets = []\n",
    "# Getting the average word vectors for each description\n",
    "for sent in word_sent_list:\n",
    "    sent_vec = np.zeros(100)\n",
    "    cnt_words = 0\n",
    "    for word in sent: \n",
    "        try:\n",
    "            vec = w2v_model.wv[word]\n",
    "            sent_vec += vec\n",
    "            cnt_words += 1 \n",
    "        except:\n",
    "            pass\n",
    "    sent_vec /= cnt_words \n",
    "    w2v_tweets.append(sent_vec)\n",
    "w2v_tweets = np.array(w2v_tweets)\n",
    "w2v_tweets = np.nan_to_num(w2v_tweets)"
   ]
  },
  {
   "cell_type": "code",
   "execution_count": 20,
   "metadata": {},
   "outputs": [],
   "source": [
    "from gensim.models.phrases import Phrases, Phraser\n",
    "from sklearn.manifold import TSNE"
   ]
  },
  {
   "cell_type": "code",
   "execution_count": 60,
   "metadata": {},
   "outputs": [
    {
     "data": {
      "image/png": "[encoded data removed]",
      "text/plain": [
       "<Figure size 800x800 with 1 Axes>"
      ]
     },
     "metadata": {},
     "output_type": "display_data"
    }
   ],
   "source": [
    "# Plotting a 3d scatter plot of most similar words\n",
    "word = \"wall\"\n",
    "fig = plt.figure(figsize = (8, 8))\n",
    "tot_words = [word] + [tupla[0] for tupla in \n",
    "                 w2v_model.wv.most_similar(word, topn = 8)]\n",
    "X = w2v_model.wv[tot_words]\n",
    "pca = TSNE(n_components=3, random_state=0, perplexity = 8)\n",
    "X = pca.fit_transform(X)\n",
    "dtf_ = pd.DataFrame(X, index=tot_words, columns=[\"x\",\"y\",\"z\"])\n",
    "dtf_[\"input\"] = 0\n",
    "dtf_[\"input\"].iloc[0:1] = 1\n",
    "from mpl_toolkits.mplot3d import Axes3D\n",
    "plt.rcParams.update({'font.size': 11, 'font.family': 'monospace', 'font.weight': 'bold'})\n",
    "plt.rcParams.update({'grid.color': '#000', 'grid.linestyle': '--', 'grid.linewidth': 0.3})\n",
    "ax = fig.add_subplot(111, projection='3d')\n",
    "ax.scatter(dtf_[dtf_[\"input\"]==0]['x'], \n",
    "           dtf_[dtf_[\"input\"]==0]['y'], \n",
    "           dtf_[dtf_[\"input\"]==0]['z'], c=\"blue\")\n",
    "ax.scatter(dtf_[dtf_[\"input\"]==1]['x'], \n",
    "           dtf_[dtf_[\"input\"]==1]['y'], \n",
    "           dtf_[dtf_[\"input\"]==1]['z'], c=\"red\")\n",
    "ax.set(xlabel=None, ylabel=None, zlabel=None, xticklabels=[], \n",
    "       yticklabels=[], zticklabels=[])\n",
    "for label, row in dtf_[[\"x\",\"y\",\"z\"]].iterrows():\n",
    "    x, y, z = row\n",
    "    ax.text(x, y, z, s=label)"
   ]
  },
  {
   "cell_type": "code",
   "execution_count": 103,
   "metadata": {},
   "outputs": [],
   "source": [
    "from sklearn.model_selection import train_test_split\n",
    "from imblearn.over_sampling import RandomOverSampler\n",
    "from sklearn.ensemble import RandomForestClassifier\n",
    "from xgboost import XGBClassifier\n",
    "from sklearn.metrics import accuracy_score, f1_score, precision_score, recall_score, classification_report, log_loss, confusion_matrix, cohen_kappa_score, matthews_corrcoef"
   ]
  },
  {
   "cell_type": "code",
   "execution_count": 115,
   "metadata": {},
   "outputs": [],
   "source": [
    "# Function to get evaluation scores\n",
    "def evaluate_model(y_test, y_pred, y_pred_proba):\n",
    "    acc = accuracy_score(y_test, y_pred.round())\n",
    "    prec = precision_score(y_test, y_pred.round(), average = 'weighted')\n",
    "    rec = recall_score(y_test, y_pred.round(), average = 'weighted')\n",
    "    f1 = f1_score(y_test, y_pred.round(), average = 'weighted')\n",
    "    logloss = log_loss(y_test, y_pred_proba)\n",
    "    kappa = cohen_kappa_score(y_test, y_pred.round())\n",
    "    mcc = matthews_corrcoef(y_test, y_pred.round())\n",
    "    return acc, prec, rec, f1, logloss, kappa, mcc"
   ]
  },
  {
   "cell_type": "code",
   "execution_count": 116,
   "metadata": {},
   "outputs": [],
   "source": [
    "# Function to store the results of the models as a dataframe\n",
    "def store_results(model_name, params, y_test, y_pred, y_pred_proba):\n",
    "    acc, prec, rec, f1, logloss, kappa, mcc = evaluate_model(y_test, y_pred, y_pred_proba)\n",
    "    results = pd.DataFrame([[model_name, params, acc, prec, rec, f1, logloss, kappa, mcc]], \n",
    "                           columns = ['model', 'params', 'accuracy', 'precision', 'recall', 'f1', 'logloss', 'kappa', 'mcc'])\n",
    "    return results"
   ]
  },
  {
   "cell_type": "code",
   "execution_count": 117,
   "metadata": {},
   "outputs": [],
   "source": [
    "# Oversampling the minority class\n",
    "ros = RandomOverSampler(random_state=42)\n",
    "x1, y1 = ros.fit_resample(w2v_tweets, df['cause'])"
   ]
  },
  {
   "cell_type": "code",
   "execution_count": 118,
   "metadata": {},
   "outputs": [],
   "source": [
    "# Splitting the data into train and test sets\n",
    "x_train, x_test, y_train, y_test = train_test_split(x1, y1, test_size = 0.3, random_state = 42)"
   ]
  },
  {
   "cell_type": "code",
   "execution_count": 119,
   "metadata": {},
   "outputs": [],
   "source": [
    "import optuna"
   ]
  },
  {
   "cell_type": "code",
   "execution_count": 120,
   "metadata": {},
   "outputs": [],
   "source": [
    "list_of_dfs = []\n",
    "# Function to optimize the hyperparameters of the model\n",
    "def objective(trial):\n",
    "      classifier_name = trial.suggest_categorical(\"classifier\", [\"RandomForest\", \"XGB\"])\n",
    "      if classifier_name == \"RandomForest\":\n",
    "            criterion = trial.suggest_categorical('criterion', ['gini', 'entropy', 'log_loss'])\n",
    "            n_estimators = trial.suggest_int('n_estimators', 50, 500)\n",
    "            max_depth = int(trial.suggest_loguniform('max_depth', 2, 32))\n",
    "            min_samples_split = trial.suggest_int('min_samples_split', 2, 10)\n",
    "            min_samples_leaf = trial.suggest_int('min_samples_leaf', 2, 15)\n",
    "            max_features = trial.suggest_int('max_features', 1, 3)\n",
    "            params = {\n",
    "                  \"criterion\": criterion,\n",
    "                  \"n_estimators\": n_estimators,\n",
    "                  \"max_depth\": max_depth,\n",
    "                  \"min_samples_split\": min_samples_split,\n",
    "                  \"min_samples_leaf\": min_samples_leaf,\n",
    "                  \"max_features\": max_features\n",
    "            }\n",
    "            clf = RandomForestClassifier(criterion = criterion, n_estimators = n_estimators, max_depth = max_depth, min_samples_split = min_samples_split, min_samples_leaf = min_samples_leaf, max_features = max_features)\n",
    "      else:\n",
    "            booster = trial.suggest_categorical('booster', ['gbtree', 'gblinear', 'dart'])\n",
    "            reg_alpha = trial.suggest_loguniform('reg_alpha', 1e-3, 10.0)\n",
    "            reg_lambda = trial.suggest_loguniform('reg_lambda', 1e-3, 10.0)\n",
    "            subsample = trial.suggest_uniform('subsample', 0.1, 1.0)\n",
    "            max_depth = int(trial.suggest_loguniform(\"max_depth\", 2, 32))\n",
    "            params = {\n",
    "                  \"booster\": booster,\n",
    "                  \"reg_alpha\": reg_alpha,\n",
    "                  \"reg_lambda\": reg_lambda,\n",
    "                  \"subsample\": subsample,\n",
    "                  \"max_depth\": max_depth\n",
    "            }\n",
    "            clf = XGBClassifier(eval_metric = \"mlogloss\", booster = booster, reg_alpha = reg_alpha, reg_lambda = reg_lambda, subsample = subsample, max_depth = max_depth)\n",
    "\n",
    "      clf.fit(x_train, y_train)\n",
    "      pred = clf.predict(x_test)\n",
    "      pred_proba = clf.predict_proba(x_test)\n",
    "      results = store_results(classifier_name, params, y_test, pred, pred_proba)\n",
    "      list_of_dfs.append(results)\n",
    "      \n",
    "      return f1_score(y_test, pred.round(), average = 'weighted')"
   ]
  },
  {
   "cell_type": "code",
   "execution_count": 123,
   "metadata": {},
   "outputs": [
    {
     "name": "stderr",
     "output_type": "stream",
     "text": [
      "\u001b[32m[I 2022-12-07 16:04:29,000]\u001b[0m A new study created in memory with name: no-name-ca51b1f9-9859-42e9-87d1-68a7b4bd5ec6\u001b[0m\n",
      "\u001b[32m[I 2022-12-07 16:04:31,580]\u001b[0m Trial 0 finished with value: 0.9450586803994843 and parameters: {'classifier': 'RandomForest', 'criterion': 'entropy', 'n_estimators': 137, 'max_depth': 31.16637835379995, 'min_samples_split': 2, 'min_samples_leaf': 11, 'max_features': 2}. Best is trial 0 with value: 0.9450586803994843.\u001b[0m\n"
     ]
    },
    {
     "name": "stdout",
     "output_type": "stream",
     "text": [
      "[16:04:31] WARNING: /var/folders/nz/j6p8yfhx1mv_0grj5xl4650h0000gp/T/abs_eek2t0c4ro/croots/recipe/xgboost-split_1659548960591/work/src/learner.cc:576: \n",
      "Parameters: { \"max_depth\", \"subsample\" } might not be used.\n",
      "\n",
      "  This could be a false alarm, with some parameters getting used by language bindings but\n",
      "  then being mistakenly passed down to XGBoost core, or some parameter actually being used\n",
      "  but getting flagged wrongly here. Please open an issue if you find any such cases.\n",
      "\n",
      "\n"
     ]
    },
    {
     "name": "stderr",
     "output_type": "stream",
     "text": [
      "\u001b[32m[I 2022-12-07 16:04:37,826]\u001b[0m Trial 1 finished with value: 0.8098812051368911 and parameters: {'classifier': 'XGB', 'booster': 'gblinear', 'reg_alpha': 0.004658737326919441, 'reg_lambda': 0.3741377281287462, 'subsample': 0.7570257489079061, 'max_depth': 2.47564471327984}. Best is trial 0 with value: 0.9450586803994843.\u001b[0m\n",
      "\u001b[32m[I 2022-12-07 16:06:29,234]\u001b[0m Trial 2 finished with value: 0.9460103267148225 and parameters: {'classifier': 'XGB', 'booster': 'dart', 'reg_alpha': 0.3516488457192695, 'reg_lambda': 0.11396142960872553, 'subsample': 0.14894136141399833, 'max_depth': 9.221753960511235}. Best is trial 2 with value: 0.9460103267148225.\u001b[0m\n",
      "\u001b[32m[I 2022-12-07 16:06:36,517]\u001b[0m Trial 3 finished with value: 0.9450505295841759 and parameters: {'classifier': 'RandomForest', 'criterion': 'log_loss', 'n_estimators': 412, 'max_depth': 28.12496680600582, 'min_samples_split': 6, 'min_samples_leaf': 11, 'max_features': 2}. Best is trial 2 with value: 0.9460103267148225.\u001b[0m\n"
     ]
    },
    {
     "name": "stdout",
     "output_type": "stream",
     "text": [
      "[16:06:36] WARNING: /var/folders/nz/j6p8yfhx1mv_0grj5xl4650h0000gp/T/abs_eek2t0c4ro/croots/recipe/xgboost-split_1659548960591/work/src/learner.cc:576: \n",
      "Parameters: { \"max_depth\", \"subsample\" } might not be used.\n",
      "\n",
      "  This could be a false alarm, with some parameters getting used by language bindings but\n",
      "  then being mistakenly passed down to XGBoost core, or some parameter actually being used\n",
      "  but getting flagged wrongly here. Please open an issue if you find any such cases.\n",
      "\n",
      "\n"
     ]
    },
    {
     "name": "stderr",
     "output_type": "stream",
     "text": [
      "\u001b[32m[I 2022-12-07 16:06:39,085]\u001b[0m Trial 4 finished with value: 0.021416926041203495 and parameters: {'classifier': 'XGB', 'booster': 'gblinear', 'reg_alpha': 1.646225628508589, 'reg_lambda': 0.21953324954479755, 'subsample': 0.8165236310492909, 'max_depth': 16.174328689005623}. Best is trial 2 with value: 0.9460103267148225.\u001b[0m\n",
      "\u001b[32m[I 2022-12-07 16:06:48,329]\u001b[0m Trial 5 finished with value: 0.9444171552817706 and parameters: {'classifier': 'RandomForest', 'criterion': 'log_loss', 'n_estimators': 423, 'max_depth': 11.785553770049376, 'min_samples_split': 9, 'min_samples_leaf': 9, 'max_features': 3}. Best is trial 2 with value: 0.9460103267148225.\u001b[0m\n",
      "\u001b[32m[I 2022-12-07 16:08:43,152]\u001b[0m Trial 6 finished with value: 0.9460757797058775 and parameters: {'classifier': 'XGB', 'booster': 'dart', 'reg_alpha': 0.02462482957491286, 'reg_lambda': 0.0379940009175887, 'subsample': 0.21423887924537433, 'max_depth': 9.662372747597061}. Best is trial 6 with value: 0.9460757797058775.\u001b[0m\n",
      "\u001b[32m[I 2022-12-07 16:08:59,212]\u001b[0m Trial 7 finished with value: 0.9466372576829252 and parameters: {'classifier': 'XGB', 'booster': 'gbtree', 'reg_alpha': 0.5040136644104368, 'reg_lambda': 0.003420660824771215, 'subsample': 0.6259568088034948, 'max_depth': 3.4935859997089462}. Best is trial 7 with value: 0.9466372576829252.\u001b[0m\n"
     ]
    },
    {
     "name": "stdout",
     "output_type": "stream",
     "text": [
      "[16:08:59] WARNING: /var/folders/nz/j6p8yfhx1mv_0grj5xl4650h0000gp/T/abs_eek2t0c4ro/croots/recipe/xgboost-split_1659548960591/work/src/learner.cc:576: \n",
      "Parameters: { \"max_depth\", \"subsample\" } might not be used.\n",
      "\n",
      "  This could be a false alarm, with some parameters getting used by language bindings but\n",
      "  then being mistakenly passed down to XGBoost core, or some parameter actually being used\n",
      "  but getting flagged wrongly here. Please open an issue if you find any such cases.\n",
      "\n",
      "\n"
     ]
    },
    {
     "name": "stderr",
     "output_type": "stream",
     "text": [
      "\u001b[32m[I 2022-12-07 16:09:01,172]\u001b[0m Trial 8 finished with value: 0.021416926041203495 and parameters: {'classifier': 'XGB', 'booster': 'gblinear', 'reg_alpha': 2.487037589546192, 'reg_lambda': 0.3326811004059107, 'subsample': 0.4364293721676722, 'max_depth': 9.125694623061966}. Best is trial 7 with value: 0.9466372576829252.\u001b[0m\n",
      "\u001b[32m[I 2022-12-07 16:09:02,259]\u001b[0m Trial 9 finished with value: 0.9446341504224173 and parameters: {'classifier': 'RandomForest', 'criterion': 'entropy', 'n_estimators': 76, 'max_depth': 20.885566831122492, 'min_samples_split': 5, 'min_samples_leaf': 10, 'max_features': 1}. Best is trial 7 with value: 0.9466372576829252.\u001b[0m\n",
      "\u001b[32m[I 2022-12-07 16:09:19,019]\u001b[0m Trial 10 finished with value: 0.9461611120071417 and parameters: {'classifier': 'XGB', 'booster': 'gbtree', 'reg_alpha': 0.0775785275816061, 'reg_lambda': 0.0010624226058388551, 'subsample': 0.55280462445242, 'max_depth': 3.959156962364549}. Best is trial 7 with value: 0.9466372576829252.\u001b[0m\n",
      "\u001b[32m[I 2022-12-07 16:09:39,380]\u001b[0m Trial 11 finished with value: 0.9469212133239187 and parameters: {'classifier': 'XGB', 'booster': 'gbtree', 'reg_alpha': 0.09580386317495111, 'reg_lambda': 0.0014937656164554563, 'subsample': 0.5616180524788518, 'max_depth': 4.049859922031898}. Best is trial 11 with value: 0.9469212133239187.\u001b[0m\n",
      "\u001b[32m[I 2022-12-07 16:09:58,311]\u001b[0m Trial 12 finished with value: 0.9471875261726915 and parameters: {'classifier': 'XGB', 'booster': 'gbtree', 'reg_alpha': 0.2774618761227754, 'reg_lambda': 0.00109327754030009, 'subsample': 0.6028534235775451, 'max_depth': 4.493821312629868}. Best is trial 12 with value: 0.9471875261726915.\u001b[0m\n",
      "\u001b[32m[I 2022-12-07 16:10:19,016]\u001b[0m Trial 13 finished with value: 0.9467033022139812 and parameters: {'classifier': 'XGB', 'booster': 'gbtree', 'reg_alpha': 0.03513653104257338, 'reg_lambda': 6.688620280508895, 'subsample': 0.43710811851787146, 'max_depth': 5.352492248700735}. Best is trial 12 with value: 0.9471875261726915.\u001b[0m\n",
      "\u001b[32m[I 2022-12-07 16:10:37,727]\u001b[0m Trial 14 finished with value: 0.9466796210731182 and parameters: {'classifier': 'XGB', 'booster': 'gbtree', 'reg_alpha': 8.154108007121875, 'reg_lambda': 0.010282494664600673, 'subsample': 0.9431474493983463, 'max_depth': 5.931370587561901}. Best is trial 12 with value: 0.9471875261726915.\u001b[0m\n",
      "\u001b[32m[I 2022-12-07 16:10:48,868]\u001b[0m Trial 15 finished with value: 0.9426485384924221 and parameters: {'classifier': 'XGB', 'booster': 'gbtree', 'reg_alpha': 0.27406057581362114, 'reg_lambda': 0.00102652352907526, 'subsample': 0.37329925991206747, 'max_depth': 2.136315040174522}. Best is trial 12 with value: 0.9471875261726915.\u001b[0m\n",
      "\u001b[32m[I 2022-12-07 16:11:11,134]\u001b[0m Trial 16 finished with value: 0.9466537671129888 and parameters: {'classifier': 'XGB', 'booster': 'gbtree', 'reg_alpha': 0.002817657135963309, 'reg_lambda': 0.016447877227164856, 'subsample': 0.6719152802100168, 'max_depth': 5.688988914448531}. Best is trial 12 with value: 0.9471875261726915.\u001b[0m\n",
      "\u001b[32m[I 2022-12-07 16:11:28,155]\u001b[0m Trial 17 finished with value: 0.9466211474873224 and parameters: {'classifier': 'XGB', 'booster': 'gbtree', 'reg_alpha': 0.011984598298259508, 'reg_lambda': 0.004475890802448897, 'subsample': 0.5170659443480932, 'max_depth': 3.9740326438554585}. Best is trial 12 with value: 0.9471875261726915.\u001b[0m\n",
      "\u001b[32m[I 2022-12-07 16:11:30,117]\u001b[0m Trial 18 finished with value: 0.8094196749365846 and parameters: {'classifier': 'RandomForest', 'criterion': 'gini', 'n_estimators': 251, 'max_depth': 3.0576715066962032, 'min_samples_split': 10, 'min_samples_leaf': 2, 'max_features': 1}. Best is trial 12 with value: 0.9471875261726915.\u001b[0m\n",
      "\u001b[32m[I 2022-12-07 16:11:47,725]\u001b[0m Trial 19 finished with value: 0.9466617332240628 and parameters: {'classifier': 'XGB', 'booster': 'gbtree', 'reg_alpha': 0.16367878514182851, 'reg_lambda': 2.4843054473322215, 'subsample': 0.2775088211054112, 'max_depth': 6.904770571043441}. Best is trial 12 with value: 0.9471875261726915.\u001b[0m\n"
     ]
    }
   ],
   "source": [
    "# Creating the study object and optimizing the hyperparameters\n",
    "study = optuna.create_study(direction='maximize')\n",
    "study.optimize(objective, n_trials=20)"
   ]
  },
  {
   "cell_type": "code",
   "execution_count": 209,
   "metadata": {},
   "outputs": [
    {
     "name": "stdout",
     "output_type": "stream",
     "text": [
      "Best hyperparameters: {'classifier': 'XGB', 'booster': 'gbtree', 'reg_alpha': 0.2774618761227754, 'reg_lambda': 0.00109327754030009, 'subsample': 0.6028534235775451, 'max_depth': 4.493821312629868}\n",
      "F1 Score: 0.9471875261726915\n"
     ]
    }
   ],
   "source": [
    "# Printing the best parameters and f1 score\n",
    "trial = study.best_trial\n",
    "print(\"Best hyperparameters: {}\".format(trial.params))\n",
    "print('F1 Score: {}'.format(trial.value))"
   ]
  },
  {
   "cell_type": "code",
   "execution_count": 125,
   "metadata": {},
   "outputs": [
    {
     "data": {
      "application/vnd.plotly.v1+json": {
       "config": {
        "plotlyServerURL": "https://plot.ly"
       },
       "data": [
        {
         "cliponaxis": false,
         "hovertemplate": [
          "classifier (CategoricalDistribution): 0.2986556727114288<extra></extra>",
          "max_depth (LogUniformDistribution): 0.7013443272885713<extra></extra>"
         ],
         "marker": {
          "color": "rgb(66,146,198)"
         },
         "orientation": "h",
         "text": [
          "0.2986556727114288",
          "0.7013443272885713"
         ],
         "textposition": "outside",
         "texttemplate": "%{text:.2f}",
         "type": "bar",
         "x": [
          0.2986556727114288,
          0.7013443272885713
         ],
         "y": [
          "classifier",
          "max_depth"
         ]
        }
       ],
       "layout": {
        "showlegend": false,
        "template": {
         "data": {
          "bar": [
           {
            "error_x": {
             "color": "#2a3f5f"
            },
            "error_y": {
             "color": "#2a3f5f"
            },
            "marker": {
             "line": {
              "color": "#E5ECF6",
              "width": 0.5
             },
             "pattern": {
              "fillmode": "overlay",
              "size": 10,
              "solidity": 0.2
             }
            },
            "type": "bar"
           }
          ],
          "barpolar": [
           {
            "marker": {
             "line": {
              "color": "#E5ECF6",
              "width": 0.5
             },
             "pattern": {
              "fillmode": "overlay",
              "size": 10,
              "solidity": 0.2
             }
            },
            "type": "barpolar"
           }
          ],
          "carpet": [
           {
            "aaxis": {
             "endlinecolor": "#2a3f5f",
             "gridcolor": "white",
             "linecolor": "white",
             "minorgridcolor": "white",
             "startlinecolor": "#2a3f5f"
            },
            "baxis": {
             "endlinecolor": "#2a3f5f",
             "gridcolor": "white",
             "linecolor": "white",
             "minorgridcolor": "white",
             "startlinecolor": "#2a3f5f"
            },
            "type": "carpet"
           }
          ],
          "choropleth": [
           {
            "colorbar": {
             "outlinewidth": 0,
             "ticks": ""
            },
            "type": "choropleth"
           }
          ],
          "contour": [
           {
            "colorbar": {
             "outlinewidth": 0,
             "ticks": ""
            },
            "colorscale": [
             [
              0,
              "#0d0887"
             ],
             [
              0.1111111111111111,
              "#46039f"
             ],
             [
              0.2222222222222222,
              "#7201a8"
             ],
             [
              0.3333333333333333,
              "#9c179e"
             ],
             [
              0.4444444444444444,
              "#bd3786"
             ],
             [
              0.5555555555555556,
              "#d8576b"
             ],
             [
              0.6666666666666666,
              "#ed7953"
             ],
             [
              0.7777777777777778,
              "#fb9f3a"
             ],
             [
              0.8888888888888888,
              "#fdca26"
             ],
             [
              1,
              "#f0f921"
             ]
            ],
            "type": "contour"
           }
          ],
          "contourcarpet": [
           {
            "colorbar": {
             "outlinewidth": 0,
             "ticks": ""
            },
            "type": "contourcarpet"
           }
          ],
          "heatmap": [
           {
            "colorbar": {
             "outlinewidth": 0,
             "ticks": ""
            },
            "colorscale": [
             [
              0,
              "#0d0887"
             ],
             [
              0.1111111111111111,
              "#46039f"
             ],
             [
              0.2222222222222222,
              "#7201a8"
             ],
             [
              0.3333333333333333,
              "#9c179e"
             ],
             [
              0.4444444444444444,
              "#bd3786"
             ],
             [
              0.5555555555555556,
              "#d8576b"
             ],
             [
              0.6666666666666666,
              "#ed7953"
             ],
             [
              0.7777777777777778,
              "#fb9f3a"
             ],
             [
              0.8888888888888888,
              "#fdca26"
             ],
             [
              1,
              "#f0f921"
             ]
            ],
            "type": "heatmap"
           }
          ],
          "heatmapgl": [
           {
            "colorbar": {
             "outlinewidth": 0,
             "ticks": ""
            },
            "colorscale": [
             [
              0,
              "#0d0887"
             ],
             [
              0.1111111111111111,
              "#46039f"
             ],
             [
              0.2222222222222222,
              "#7201a8"
             ],
             [
              0.3333333333333333,
              "#9c179e"
             ],
             [
              0.4444444444444444,
              "#bd3786"
             ],
             [
              0.5555555555555556,
              "#d8576b"
             ],
             [
              0.6666666666666666,
              "#ed7953"
             ],
             [
              0.7777777777777778,
              "#fb9f3a"
             ],
             [
              0.8888888888888888,
              "#fdca26"
             ],
             [
              1,
              "#f0f921"
             ]
            ],
            "type": "heatmapgl"
           }
          ],
          "histogram": [
           {
            "marker": {
             "pattern": {
              "fillmode": "overlay",
              "size": 10,
              "solidity": 0.2
             }
            },
            "type": "histogram"
           }
          ],
          "histogram2d": [
           {
            "colorbar": {
             "outlinewidth": 0,
             "ticks": ""
            },
            "colorscale": [
             [
              0,
              "#0d0887"
             ],
             [
              0.1111111111111111,
              "#46039f"
             ],
             [
              0.2222222222222222,
              "#7201a8"
             ],
             [
              0.3333333333333333,
              "#9c179e"
             ],
             [
              0.4444444444444444,
              "#bd3786"
             ],
             [
              0.5555555555555556,
              "#d8576b"
             ],
             [
              0.6666666666666666,
              "#ed7953"
             ],
             [
              0.7777777777777778,
              "#fb9f3a"
             ],
             [
              0.8888888888888888,
              "#fdca26"
             ],
             [
              1,
              "#f0f921"
             ]
            ],
            "type": "histogram2d"
           }
          ],
          "histogram2dcontour": [
           {
            "colorbar": {
             "outlinewidth": 0,
             "ticks": ""
            },
            "colorscale": [
             [
              0,
              "#0d0887"
             ],
             [
              0.1111111111111111,
              "#46039f"
             ],
             [
              0.2222222222222222,
              "#7201a8"
             ],
             [
              0.3333333333333333,
              "#9c179e"
             ],
             [
              0.4444444444444444,
              "#bd3786"
             ],
             [
              0.5555555555555556,
              "#d8576b"
             ],
             [
              0.6666666666666666,
              "#ed7953"
             ],
             [
              0.7777777777777778,
              "#fb9f3a"
             ],
             [
              0.8888888888888888,
              "#fdca26"
             ],
             [
              1,
              "#f0f921"
             ]
            ],
            "type": "histogram2dcontour"
           }
          ],
          "mesh3d": [
           {
            "colorbar": {
             "outlinewidth": 0,
             "ticks": ""
            },
            "type": "mesh3d"
           }
          ],
          "parcoords": [
           {
            "line": {
             "colorbar": {
              "outlinewidth": 0,
              "ticks": ""
             }
            },
            "type": "parcoords"
           }
          ],
          "pie": [
           {
            "automargin": true,
            "type": "pie"
           }
          ],
          "scatter": [
           {
            "fillpattern": {
             "fillmode": "overlay",
             "size": 10,
             "solidity": 0.2
            },
            "type": "scatter"
           }
          ],
          "scatter3d": [
           {
            "line": {
             "colorbar": {
              "outlinewidth": 0,
              "ticks": ""
             }
            },
            "marker": {
             "colorbar": {
              "outlinewidth": 0,
              "ticks": ""
             }
            },
            "type": "scatter3d"
           }
          ],
          "scattercarpet": [
           {
            "marker": {
             "colorbar": {
              "outlinewidth": 0,
              "ticks": ""
             }
            },
            "type": "scattercarpet"
           }
          ],
          "scattergeo": [
           {
            "marker": {
             "colorbar": {
              "outlinewidth": 0,
              "ticks": ""
             }
            },
            "type": "scattergeo"
           }
          ],
          "scattergl": [
           {
            "marker": {
             "colorbar": {
              "outlinewidth": 0,
              "ticks": ""
             }
            },
            "type": "scattergl"
           }
          ],
          "scattermapbox": [
           {
            "marker": {
             "colorbar": {
              "outlinewidth": 0,
              "ticks": ""
             }
            },
            "type": "scattermapbox"
           }
          ],
          "scatterpolar": [
           {
            "marker": {
             "colorbar": {
              "outlinewidth": 0,
              "ticks": ""
             }
            },
            "type": "scatterpolar"
           }
          ],
          "scatterpolargl": [
           {
            "marker": {
             "colorbar": {
              "outlinewidth": 0,
              "ticks": ""
             }
            },
            "type": "scatterpolargl"
           }
          ],
          "scatterternary": [
           {
            "marker": {
             "colorbar": {
              "outlinewidth": 0,
              "ticks": ""
             }
            },
            "type": "scatterternary"
           }
          ],
          "surface": [
           {
            "colorbar": {
             "outlinewidth": 0,
             "ticks": ""
            },
            "colorscale": [
             [
              0,
              "#0d0887"
             ],
             [
              0.1111111111111111,
              "#46039f"
             ],
             [
              0.2222222222222222,
              "#7201a8"
             ],
             [
              0.3333333333333333,
              "#9c179e"
             ],
             [
              0.4444444444444444,
              "#bd3786"
             ],
             [
              0.5555555555555556,
              "#d8576b"
             ],
             [
              0.6666666666666666,
              "#ed7953"
             ],
             [
              0.7777777777777778,
              "#fb9f3a"
             ],
             [
              0.8888888888888888,
              "#fdca26"
             ],
             [
              1,
              "#f0f921"
             ]
            ],
            "type": "surface"
           }
          ],
          "table": [
           {
            "cells": {
             "fill": {
              "color": "#EBF0F8"
             },
             "line": {
              "color": "white"
             }
            },
            "header": {
             "fill": {
              "color": "#C8D4E3"
             },
             "line": {
              "color": "white"
             }
            },
            "type": "table"
           }
          ]
         },
         "layout": {
          "annotationdefaults": {
           "arrowcolor": "#2a3f5f",
           "arrowhead": 0,
           "arrowwidth": 1
          },
          "autotypenumbers": "strict",
          "coloraxis": {
           "colorbar": {
            "outlinewidth": 0,
            "ticks": ""
           }
          },
          "colorscale": {
           "diverging": [
            [
             0,
             "#8e0152"
            ],
            [
             0.1,
             "#c51b7d"
            ],
            [
             0.2,
             "#de77ae"
            ],
            [
             0.3,
             "#f1b6da"
            ],
            [
             0.4,
             "#fde0ef"
            ],
            [
             0.5,
             "#f7f7f7"
            ],
            [
             0.6,
             "#e6f5d0"
            ],
            [
             0.7,
             "#b8e186"
            ],
            [
             0.8,
             "#7fbc41"
            ],
            [
             0.9,
             "#4d9221"
            ],
            [
             1,
             "#276419"
            ]
           ],
           "sequential": [
            [
             0,
             "#0d0887"
            ],
            [
             0.1111111111111111,
             "#46039f"
            ],
            [
             0.2222222222222222,
             "#7201a8"
            ],
            [
             0.3333333333333333,
             "#9c179e"
            ],
            [
             0.4444444444444444,
             "#bd3786"
            ],
            [
             0.5555555555555556,
             "#d8576b"
            ],
            [
             0.6666666666666666,
             "#ed7953"
            ],
            [
             0.7777777777777778,
             "#fb9f3a"
            ],
            [
             0.8888888888888888,
             "#fdca26"
            ],
            [
             1,
             "#f0f921"
            ]
           ],
           "sequentialminus": [
            [
             0,
             "#0d0887"
            ],
            [
             0.1111111111111111,
             "#46039f"
            ],
            [
             0.2222222222222222,
             "#7201a8"
            ],
            [
             0.3333333333333333,
             "#9c179e"
            ],
            [
             0.4444444444444444,
             "#bd3786"
            ],
            [
             0.5555555555555556,
             "#d8576b"
            ],
            [
             0.6666666666666666,
             "#ed7953"
            ],
            [
             0.7777777777777778,
             "#fb9f3a"
            ],
            [
             0.8888888888888888,
             "#fdca26"
            ],
            [
             1,
             "#f0f921"
            ]
           ]
          },
          "colorway": [
           "#636efa",
           "#EF553B",
           "#00cc96",
           "#ab63fa",
           "#FFA15A",
           "#19d3f3",
           "#FF6692",
           "#B6E880",
           "#FF97FF",
           "#FECB52"
          ],
          "font": {
           "color": "#2a3f5f"
          },
          "geo": {
           "bgcolor": "white",
           "lakecolor": "white",
           "landcolor": "#E5ECF6",
           "showlakes": true,
           "showland": true,
           "subunitcolor": "white"
          },
          "hoverlabel": {
           "align": "left"
          },
          "hovermode": "closest",
          "mapbox": {
           "style": "light"
          },
          "paper_bgcolor": "white",
          "plot_bgcolor": "#E5ECF6",
          "polar": {
           "angularaxis": {
            "gridcolor": "white",
            "linecolor": "white",
            "ticks": ""
           },
           "bgcolor": "#E5ECF6",
           "radialaxis": {
            "gridcolor": "white",
            "linecolor": "white",
            "ticks": ""
           }
          },
          "scene": {
           "xaxis": {
            "backgroundcolor": "#E5ECF6",
            "gridcolor": "white",
            "gridwidth": 2,
            "linecolor": "white",
            "showbackground": true,
            "ticks": "",
            "zerolinecolor": "white"
           },
           "yaxis": {
            "backgroundcolor": "#E5ECF6",
            "gridcolor": "white",
            "gridwidth": 2,
            "linecolor": "white",
            "showbackground": true,
            "ticks": "",
            "zerolinecolor": "white"
           },
           "zaxis": {
            "backgroundcolor": "#E5ECF6",
            "gridcolor": "white",
            "gridwidth": 2,
            "linecolor": "white",
            "showbackground": true,
            "ticks": "",
            "zerolinecolor": "white"
           }
          },
          "shapedefaults": {
           "line": {
            "color": "#2a3f5f"
           }
          },
          "ternary": {
           "aaxis": {
            "gridcolor": "white",
            "linecolor": "white",
            "ticks": ""
           },
           "baxis": {
            "gridcolor": "white",
            "linecolor": "white",
            "ticks": ""
           },
           "bgcolor": "#E5ECF6",
           "caxis": {
            "gridcolor": "white",
            "linecolor": "white",
            "ticks": ""
           }
          },
          "title": {
           "x": 0.05
          },
          "xaxis": {
           "automargin": true,
           "gridcolor": "white",
           "linecolor": "white",
           "ticks": "",
           "title": {
            "standoff": 15
           },
           "zerolinecolor": "white",
           "zerolinewidth": 2
          },
          "yaxis": {
           "automargin": true,
           "gridcolor": "white",
           "linecolor": "white",
           "ticks": "",
           "title": {
            "standoff": 15
           },
           "zerolinecolor": "white",
           "zerolinewidth": 2
          }
         }
        },
        "title": {
         "text": "Hyperparameter Importances"
        },
        "xaxis": {
         "title": {
          "text": "Importance for Objective Value"
         }
        },
        "yaxis": {
         "title": {
          "text": "Hyperparameter"
         }
        }
       }
      }
     },
     "metadata": {},
     "output_type": "display_data"
    }
   ],
   "source": [
    "# Finding important hyperparameters\n",
    "optuna.visualization.plot_param_importances(study)"
   ]
  },
  {
   "cell_type": "code",
   "execution_count": 205,
   "metadata": {},
   "outputs": [
    {
     "data": {
      "application/vnd.plotly.v1+json": {
       "config": {
        "plotlyServerURL": "https://plot.ly"
       },
       "data": [
        {
         "marker": {
          "color": [
           1,
           2,
           4,
           6,
           7,
           8,
           10,
           11,
           12,
           13,
           14,
           15,
           16,
           17,
           19
          ],
          "colorbar": {
           "title": {
            "text": "#Trials"
           },
           "x": 1,
           "xpad": 40
          },
          "colorscale": [
           [
            0,
            "rgb(247,251,255)"
           ],
           [
            0.125,
            "rgb(222,235,247)"
           ],
           [
            0.25,
            "rgb(198,219,239)"
           ],
           [
            0.375,
            "rgb(158,202,225)"
           ],
           [
            0.5,
            "rgb(107,174,214)"
           ],
           [
            0.625,
            "rgb(66,146,198)"
           ],
           [
            0.75,
            "rgb(33,113,181)"
           ],
           [
            0.875,
            "rgb(8,81,156)"
           ],
           [
            1,
            "rgb(8,48,107)"
           ]
          ],
          "line": {
           "color": "Grey",
           "width": 0.5
          },
          "showscale": true
         },
         "mode": "markers",
         "showlegend": false,
         "type": "scatter",
         "x": [
          "gblinear",
          "dart",
          "gblinear",
          "dart",
          "gbtree",
          "gblinear",
          "gbtree",
          "gbtree",
          "gbtree",
          "gbtree",
          "gbtree",
          "gbtree",
          "gbtree",
          "gbtree",
          "gbtree"
         ],
         "xaxis": "x",
         "y": [
          0.8098812051368911,
          0.9460103267148225,
          0.021416926041203495,
          0.9460757797058775,
          0.9466372576829252,
          0.021416926041203495,
          0.9461611120071417,
          0.9469212133239187,
          0.9471875261726915,
          0.9467033022139812,
          0.9466796210731182,
          0.9426485384924221,
          0.9466537671129888,
          0.9466211474873224,
          0.9466617332240628
         ],
         "yaxis": "y"
        },
        {
         "marker": {
          "color": [
           0,
           1,
           2,
           3,
           4,
           5,
           6,
           7,
           8,
           9,
           10,
           11,
           12,
           13,
           14,
           15,
           16,
           17,
           18,
           19
          ],
          "colorbar": {
           "title": {
            "text": "#Trials"
           },
           "x": 1,
           "xpad": 40
          },
          "colorscale": [
           [
            0,
            "rgb(247,251,255)"
           ],
           [
            0.125,
            "rgb(222,235,247)"
           ],
           [
            0.25,
            "rgb(198,219,239)"
           ],
           [
            0.375,
            "rgb(158,202,225)"
           ],
           [
            0.5,
            "rgb(107,174,214)"
           ],
           [
            0.625,
            "rgb(66,146,198)"
           ],
           [
            0.75,
            "rgb(33,113,181)"
           ],
           [
            0.875,
            "rgb(8,81,156)"
           ],
           [
            1,
            "rgb(8,48,107)"
           ]
          ],
          "line": {
           "color": "Grey",
           "width": 0.5
          },
          "showscale": false
         },
         "mode": "markers",
         "showlegend": false,
         "type": "scatter",
         "x": [
          "RandomForest",
          "XGB",
          "XGB",
          "RandomForest",
          "XGB",
          "RandomForest",
          "XGB",
          "XGB",
          "XGB",
          "RandomForest",
          "XGB",
          "XGB",
          "XGB",
          "XGB",
          "XGB",
          "XGB",
          "XGB",
          "XGB",
          "RandomForest",
          "XGB"
         ],
         "xaxis": "x2",
         "y": [
          0.9450586803994843,
          0.8098812051368911,
          0.9460103267148225,
          0.9450505295841759,
          0.021416926041203495,
          0.9444171552817706,
          0.9460757797058775,
          0.9466372576829252,
          0.021416926041203495,
          0.9446341504224173,
          0.9461611120071417,
          0.9469212133239187,
          0.9471875261726915,
          0.9467033022139812,
          0.9466796210731182,
          0.9426485384924221,
          0.9466537671129888,
          0.9466211474873224,
          0.8094196749365846,
          0.9466617332240628
         ],
         "yaxis": "y2"
        },
        {
         "marker": {
          "color": [
           0,
           3,
           5,
           9,
           18
          ],
          "colorbar": {
           "title": {
            "text": "#Trials"
           },
           "x": 1,
           "xpad": 40
          },
          "colorscale": [
           [
            0,
            "rgb(247,251,255)"
           ],
           [
            0.125,
            "rgb(222,235,247)"
           ],
           [
            0.25,
            "rgb(198,219,239)"
           ],
           [
            0.375,
            "rgb(158,202,225)"
           ],
           [
            0.5,
            "rgb(107,174,214)"
           ],
           [
            0.625,
            "rgb(66,146,198)"
           ],
           [
            0.75,
            "rgb(33,113,181)"
           ],
           [
            0.875,
            "rgb(8,81,156)"
           ],
           [
            1,
            "rgb(8,48,107)"
           ]
          ],
          "line": {
           "color": "Grey",
           "width": 0.5
          },
          "showscale": false
         },
         "mode": "markers",
         "showlegend": false,
         "type": "scatter",
         "x": [
          "entropy",
          "log_loss",
          "log_loss",
          "entropy",
          "gini"
         ],
         "xaxis": "x3",
         "y": [
          0.9450586803994843,
          0.9450505295841759,
          0.9444171552817706,
          0.9446341504224173,
          0.8094196749365846
         ],
         "yaxis": "y3"
        },
        {
         "marker": {
          "color": [
           0,
           1,
           2,
           3,
           4,
           5,
           6,
           7,
           8,
           9,
           10,
           11,
           12,
           13,
           14,
           15,
           16,
           17,
           18,
           19
          ],
          "colorbar": {
           "title": {
            "text": "#Trials"
           },
           "x": 1,
           "xpad": 40
          },
          "colorscale": [
           [
            0,
            "rgb(247,251,255)"
           ],
           [
            0.125,
            "rgb(222,235,247)"
           ],
           [
            0.25,
            "rgb(198,219,239)"
           ],
           [
            0.375,
            "rgb(158,202,225)"
           ],
           [
            0.5,
            "rgb(107,174,214)"
           ],
           [
            0.625,
            "rgb(66,146,198)"
           ],
           [
            0.75,
            "rgb(33,113,181)"
           ],
           [
            0.875,
            "rgb(8,81,156)"
           ],
           [
            1,
            "rgb(8,48,107)"
           ]
          ],
          "line": {
           "color": "Grey",
           "width": 0.5
          },
          "showscale": false
         },
         "mode": "markers",
         "showlegend": false,
         "type": "scatter",
         "x": [
          31.16637835379995,
          2.47564471327984,
          9.221753960511235,
          28.12496680600582,
          16.174328689005623,
          11.785553770049376,
          9.662372747597061,
          3.4935859997089462,
          9.125694623061966,
          20.885566831122492,
          3.959156962364549,
          4.049859922031898,
          4.493821312629868,
          5.352492248700735,
          5.931370587561901,
          2.136315040174522,
          5.688988914448531,
          3.9740326438554585,
          3.0576715066962032,
          6.904770571043441
         ],
         "xaxis": "x4",
         "y": [
          0.9450586803994843,
          0.8098812051368911,
          0.9460103267148225,
          0.9450505295841759,
          0.021416926041203495,
          0.9444171552817706,
          0.9460757797058775,
          0.9466372576829252,
          0.021416926041203495,
          0.9446341504224173,
          0.9461611120071417,
          0.9469212133239187,
          0.9471875261726915,
          0.9467033022139812,
          0.9466796210731182,
          0.9426485384924221,
          0.9466537671129888,
          0.9466211474873224,
          0.8094196749365846,
          0.9466617332240628
         ],
         "yaxis": "y4"
        },
        {
         "marker": {
          "color": [
           0,
           3,
           5,
           9,
           18
          ],
          "colorbar": {
           "title": {
            "text": "#Trials"
           },
           "x": 1,
           "xpad": 40
          },
          "colorscale": [
           [
            0,
            "rgb(247,251,255)"
           ],
           [
            0.125,
            "rgb(222,235,247)"
           ],
           [
            0.25,
            "rgb(198,219,239)"
           ],
           [
            0.375,
            "rgb(158,202,225)"
           ],
           [
            0.5,
            "rgb(107,174,214)"
           ],
           [
            0.625,
            "rgb(66,146,198)"
           ],
           [
            0.75,
            "rgb(33,113,181)"
           ],
           [
            0.875,
            "rgb(8,81,156)"
           ],
           [
            1,
            "rgb(8,48,107)"
           ]
          ],
          "line": {
           "color": "Grey",
           "width": 0.5
          },
          "showscale": false
         },
         "mode": "markers",
         "showlegend": false,
         "type": "scatter",
         "x": [
          2,
          2,
          3,
          1,
          1
         ],
         "xaxis": "x5",
         "y": [
          0.9450586803994843,
          0.9450505295841759,
          0.9444171552817706,
          0.9446341504224173,
          0.8094196749365846
         ],
         "yaxis": "y5"
        },
        {
         "marker": {
          "color": [
           0,
           3,
           5,
           9,
           18
          ],
          "colorbar": {
           "title": {
            "text": "#Trials"
           },
           "x": 1,
           "xpad": 40
          },
          "colorscale": [
           [
            0,
            "rgb(247,251,255)"
           ],
           [
            0.125,
            "rgb(222,235,247)"
           ],
           [
            0.25,
            "rgb(198,219,239)"
           ],
           [
            0.375,
            "rgb(158,202,225)"
           ],
           [
            0.5,
            "rgb(107,174,214)"
           ],
           [
            0.625,
            "rgb(66,146,198)"
           ],
           [
            0.75,
            "rgb(33,113,181)"
           ],
           [
            0.875,
            "rgb(8,81,156)"
           ],
           [
            1,
            "rgb(8,48,107)"
           ]
          ],
          "line": {
           "color": "Grey",
           "width": 0.5
          },
          "showscale": false
         },
         "mode": "markers",
         "showlegend": false,
         "type": "scatter",
         "x": [
          11,
          11,
          9,
          10,
          2
         ],
         "xaxis": "x6",
         "y": [
          0.9450586803994843,
          0.9450505295841759,
          0.9444171552817706,
          0.9446341504224173,
          0.8094196749365846
         ],
         "yaxis": "y6"
        },
        {
         "marker": {
          "color": [
           0,
           3,
           5,
           9,
           18
          ],
          "colorbar": {
           "title": {
            "text": "#Trials"
           },
           "x": 1,
           "xpad": 40
          },
          "colorscale": [
           [
            0,
            "rgb(247,251,255)"
           ],
           [
            0.125,
            "rgb(222,235,247)"
           ],
           [
            0.25,
            "rgb(198,219,239)"
           ],
           [
            0.375,
            "rgb(158,202,225)"
           ],
           [
            0.5,
            "rgb(107,174,214)"
           ],
           [
            0.625,
            "rgb(66,146,198)"
           ],
           [
            0.75,
            "rgb(33,113,181)"
           ],
           [
            0.875,
            "rgb(8,81,156)"
           ],
           [
            1,
            "rgb(8,48,107)"
           ]
          ],
          "line": {
           "color": "Grey",
           "width": 0.5
          },
          "showscale": false
         },
         "mode": "markers",
         "showlegend": false,
         "type": "scatter",
         "x": [
          2,
          6,
          9,
          5,
          10
         ],
         "xaxis": "x7",
         "y": [
          0.9450586803994843,
          0.9450505295841759,
          0.9444171552817706,
          0.9446341504224173,
          0.8094196749365846
         ],
         "yaxis": "y7"
        },
        {
         "marker": {
          "color": [
           0,
           3,
           5,
           9,
           18
          ],
          "colorbar": {
           "title": {
            "text": "#Trials"
           },
           "x": 1,
           "xpad": 40
          },
          "colorscale": [
           [
            0,
            "rgb(247,251,255)"
           ],
           [
            0.125,
            "rgb(222,235,247)"
           ],
           [
            0.25,
            "rgb(198,219,239)"
           ],
           [
            0.375,
            "rgb(158,202,225)"
           ],
           [
            0.5,
            "rgb(107,174,214)"
           ],
           [
            0.625,
            "rgb(66,146,198)"
           ],
           [
            0.75,
            "rgb(33,113,181)"
           ],
           [
            0.875,
            "rgb(8,81,156)"
           ],
           [
            1,
            "rgb(8,48,107)"
           ]
          ],
          "line": {
           "color": "Grey",
           "width": 0.5
          },
          "showscale": false
         },
         "mode": "markers",
         "showlegend": false,
         "type": "scatter",
         "x": [
          137,
          412,
          423,
          76,
          251
         ],
         "xaxis": "x8",
         "y": [
          0.9450586803994843,
          0.9450505295841759,
          0.9444171552817706,
          0.9446341504224173,
          0.8094196749365846
         ],
         "yaxis": "y8"
        },
        {
         "marker": {
          "color": [
           1,
           2,
           4,
           6,
           7,
           8,
           10,
           11,
           12,
           13,
           14,
           15,
           16,
           17,
           19
          ],
          "colorbar": {
           "title": {
            "text": "#Trials"
           },
           "x": 1,
           "xpad": 40
          },
          "colorscale": [
           [
            0,
            "rgb(247,251,255)"
           ],
           [
            0.125,
            "rgb(222,235,247)"
           ],
           [
            0.25,
            "rgb(198,219,239)"
           ],
           [
            0.375,
            "rgb(158,202,225)"
           ],
           [
            0.5,
            "rgb(107,174,214)"
           ],
           [
            0.625,
            "rgb(66,146,198)"
           ],
           [
            0.75,
            "rgb(33,113,181)"
           ],
           [
            0.875,
            "rgb(8,81,156)"
           ],
           [
            1,
            "rgb(8,48,107)"
           ]
          ],
          "line": {
           "color": "Grey",
           "width": 0.5
          },
          "showscale": false
         },
         "mode": "markers",
         "showlegend": false,
         "type": "scatter",
         "x": [
          0.004658737326919441,
          0.3516488457192695,
          1.646225628508589,
          0.02462482957491286,
          0.5040136644104368,
          2.487037589546192,
          0.0775785275816061,
          0.09580386317495111,
          0.2774618761227754,
          0.03513653104257338,
          8.154108007121875,
          0.27406057581362114,
          0.002817657135963309,
          0.011984598298259508,
          0.16367878514182851
         ],
         "xaxis": "x9",
         "y": [
          0.8098812051368911,
          0.9460103267148225,
          0.021416926041203495,
          0.9460757797058775,
          0.9466372576829252,
          0.021416926041203495,
          0.9461611120071417,
          0.9469212133239187,
          0.9471875261726915,
          0.9467033022139812,
          0.9466796210731182,
          0.9426485384924221,
          0.9466537671129888,
          0.9466211474873224,
          0.9466617332240628
         ],
         "yaxis": "y9"
        },
        {
         "marker": {
          "color": [
           1,
           2,
           4,
           6,
           7,
           8,
           10,
           11,
           12,
           13,
           14,
           15,
           16,
           17,
           19
          ],
          "colorbar": {
           "title": {
            "text": "#Trials"
           },
           "x": 1,
           "xpad": 40
          },
          "colorscale": [
           [
            0,
            "rgb(247,251,255)"
           ],
           [
            0.125,
            "rgb(222,235,247)"
           ],
           [
            0.25,
            "rgb(198,219,239)"
           ],
           [
            0.375,
            "rgb(158,202,225)"
           ],
           [
            0.5,
            "rgb(107,174,214)"
           ],
           [
            0.625,
            "rgb(66,146,198)"
           ],
           [
            0.75,
            "rgb(33,113,181)"
           ],
           [
            0.875,
            "rgb(8,81,156)"
           ],
           [
            1,
            "rgb(8,48,107)"
           ]
          ],
          "line": {
           "color": "Grey",
           "width": 0.5
          },
          "showscale": false
         },
         "mode": "markers",
         "showlegend": false,
         "type": "scatter",
         "x": [
          0.3741377281287462,
          0.11396142960872553,
          0.21953324954479755,
          0.0379940009175887,
          0.003420660824771215,
          0.3326811004059107,
          0.0010624226058388551,
          0.0014937656164554563,
          0.00109327754030009,
          6.688620280508895,
          0.010282494664600673,
          0.00102652352907526,
          0.016447877227164856,
          0.004475890802448897,
          2.4843054473322215
         ],
         "xaxis": "x10",
         "y": [
          0.8098812051368911,
          0.9460103267148225,
          0.021416926041203495,
          0.9460757797058775,
          0.9466372576829252,
          0.021416926041203495,
          0.9461611120071417,
          0.9469212133239187,
          0.9471875261726915,
          0.9467033022139812,
          0.9466796210731182,
          0.9426485384924221,
          0.9466537671129888,
          0.9466211474873224,
          0.9466617332240628
         ],
         "yaxis": "y10"
        },
        {
         "marker": {
          "color": [
           1,
           2,
           4,
           6,
           7,
           8,
           10,
           11,
           12,
           13,
           14,
           15,
           16,
           17,
           19
          ],
          "colorbar": {
           "title": {
            "text": "#Trials"
           },
           "x": 1,
           "xpad": 40
          },
          "colorscale": [
           [
            0,
            "rgb(247,251,255)"
           ],
           [
            0.125,
            "rgb(222,235,247)"
           ],
           [
            0.25,
            "rgb(198,219,239)"
           ],
           [
            0.375,
            "rgb(158,202,225)"
           ],
           [
            0.5,
            "rgb(107,174,214)"
           ],
           [
            0.625,
            "rgb(66,146,198)"
           ],
           [
            0.75,
            "rgb(33,113,181)"
           ],
           [
            0.875,
            "rgb(8,81,156)"
           ],
           [
            1,
            "rgb(8,48,107)"
           ]
          ],
          "line": {
           "color": "Grey",
           "width": 0.5
          },
          "showscale": false
         },
         "mode": "markers",
         "showlegend": false,
         "type": "scatter",
         "x": [
          0.7570257489079061,
          0.14894136141399833,
          0.8165236310492909,
          0.21423887924537433,
          0.6259568088034948,
          0.4364293721676722,
          0.55280462445242,
          0.5616180524788518,
          0.6028534235775451,
          0.43710811851787146,
          0.9431474493983463,
          0.37329925991206747,
          0.6719152802100168,
          0.5170659443480932,
          0.2775088211054112
         ],
         "xaxis": "x11",
         "y": [
          0.8098812051368911,
          0.9460103267148225,
          0.021416926041203495,
          0.9460757797058775,
          0.9466372576829252,
          0.021416926041203495,
          0.9461611120071417,
          0.9469212133239187,
          0.9471875261726915,
          0.9467033022139812,
          0.9466796210731182,
          0.9426485384924221,
          0.9466537671129888,
          0.9466211474873224,
          0.9466617332240628
         ],
         "yaxis": "y11"
        }
       ],
       "layout": {
        "template": {
         "data": {
          "bar": [
           {
            "error_x": {
             "color": "#2a3f5f"
            },
            "error_y": {
             "color": "#2a3f5f"
            },
            "marker": {
             "line": {
              "color": "#E5ECF6",
              "width": 0.5
             },
             "pattern": {
              "fillmode": "overlay",
              "size": 10,
              "solidity": 0.2
             }
            },
            "type": "bar"
           }
          ],
          "barpolar": [
           {
            "marker": {
             "line": {
              "color": "#E5ECF6",
              "width": 0.5
             },
             "pattern": {
              "fillmode": "overlay",
              "size": 10,
              "solidity": 0.2
             }
            },
            "type": "barpolar"
           }
          ],
          "carpet": [
           {
            "aaxis": {
             "endlinecolor": "#2a3f5f",
             "gridcolor": "white",
             "linecolor": "white",
             "minorgridcolor": "white",
             "startlinecolor": "#2a3f5f"
            },
            "baxis": {
             "endlinecolor": "#2a3f5f",
             "gridcolor": "white",
             "linecolor": "white",
             "minorgridcolor": "white",
             "startlinecolor": "#2a3f5f"
            },
            "type": "carpet"
           }
          ],
          "choropleth": [
           {
            "colorbar": {
             "outlinewidth": 0,
             "ticks": ""
            },
            "type": "choropleth"
           }
          ],
          "contour": [
           {
            "colorbar": {
             "outlinewidth": 0,
             "ticks": ""
            },
            "colorscale": [
             [
              0,
              "#0d0887"
             ],
             [
              0.1111111111111111,
              "#46039f"
             ],
             [
              0.2222222222222222,
              "#7201a8"
             ],
             [
              0.3333333333333333,
              "#9c179e"
             ],
             [
              0.4444444444444444,
              "#bd3786"
             ],
             [
              0.5555555555555556,
              "#d8576b"
             ],
             [
              0.6666666666666666,
              "#ed7953"
             ],
             [
              0.7777777777777778,
              "#fb9f3a"
             ],
             [
              0.8888888888888888,
              "#fdca26"
             ],
             [
              1,
              "#f0f921"
             ]
            ],
            "type": "contour"
           }
          ],
          "contourcarpet": [
           {
            "colorbar": {
             "outlinewidth": 0,
             "ticks": ""
            },
            "type": "contourcarpet"
           }
          ],
          "heatmap": [
           {
            "colorbar": {
             "outlinewidth": 0,
             "ticks": ""
            },
            "colorscale": [
             [
              0,
              "#0d0887"
             ],
             [
              0.1111111111111111,
              "#46039f"
             ],
             [
              0.2222222222222222,
              "#7201a8"
             ],
             [
              0.3333333333333333,
              "#9c179e"
             ],
             [
              0.4444444444444444,
              "#bd3786"
             ],
             [
              0.5555555555555556,
              "#d8576b"
             ],
             [
              0.6666666666666666,
              "#ed7953"
             ],
             [
              0.7777777777777778,
              "#fb9f3a"
             ],
             [
              0.8888888888888888,
              "#fdca26"
             ],
             [
              1,
              "#f0f921"
             ]
            ],
            "type": "heatmap"
           }
          ],
          "heatmapgl": [
           {
            "colorbar": {
             "outlinewidth": 0,
             "ticks": ""
            },
            "colorscale": [
             [
              0,
              "#0d0887"
             ],
             [
              0.1111111111111111,
              "#46039f"
             ],
             [
              0.2222222222222222,
              "#7201a8"
             ],
             [
              0.3333333333333333,
              "#9c179e"
             ],
             [
              0.4444444444444444,
              "#bd3786"
             ],
             [
              0.5555555555555556,
              "#d8576b"
             ],
             [
              0.6666666666666666,
              "#ed7953"
             ],
             [
              0.7777777777777778,
              "#fb9f3a"
             ],
             [
              0.8888888888888888,
              "#fdca26"
             ],
             [
              1,
              "#f0f921"
             ]
            ],
            "type": "heatmapgl"
           }
          ],
          "histogram": [
           {
            "marker": {
             "pattern": {
              "fillmode": "overlay",
              "size": 10,
              "solidity": 0.2
             }
            },
            "type": "histogram"
           }
          ],
          "histogram2d": [
           {
            "colorbar": {
             "outlinewidth": 0,
             "ticks": ""
            },
            "colorscale": [
             [
              0,
              "#0d0887"
             ],
             [
              0.1111111111111111,
              "#46039f"
             ],
             [
              0.2222222222222222,
              "#7201a8"
             ],
             [
              0.3333333333333333,
              "#9c179e"
             ],
             [
              0.4444444444444444,
              "#bd3786"
             ],
             [
              0.5555555555555556,
              "#d8576b"
             ],
             [
              0.6666666666666666,
              "#ed7953"
             ],
             [
              0.7777777777777778,
              "#fb9f3a"
             ],
             [
              0.8888888888888888,
              "#fdca26"
             ],
             [
              1,
              "#f0f921"
             ]
            ],
            "type": "histogram2d"
           }
          ],
          "histogram2dcontour": [
           {
            "colorbar": {
             "outlinewidth": 0,
             "ticks": ""
            },
            "colorscale": [
             [
              0,
              "#0d0887"
             ],
             [
              0.1111111111111111,
              "#46039f"
             ],
             [
              0.2222222222222222,
              "#7201a8"
             ],
             [
              0.3333333333333333,
              "#9c179e"
             ],
             [
              0.4444444444444444,
              "#bd3786"
             ],
             [
              0.5555555555555556,
              "#d8576b"
             ],
             [
              0.6666666666666666,
              "#ed7953"
             ],
             [
              0.7777777777777778,
              "#fb9f3a"
             ],
             [
              0.8888888888888888,
              "#fdca26"
             ],
             [
              1,
              "#f0f921"
             ]
            ],
            "type": "histogram2dcontour"
           }
          ],
          "mesh3d": [
           {
            "colorbar": {
             "outlinewidth": 0,
             "ticks": ""
            },
            "type": "mesh3d"
           }
          ],
          "parcoords": [
           {
            "line": {
             "colorbar": {
              "outlinewidth": 0,
              "ticks": ""
             }
            },
            "type": "parcoords"
           }
          ],
          "pie": [
           {
            "automargin": true,
            "type": "pie"
           }
          ],
          "scatter": [
           {
            "fillpattern": {
             "fillmode": "overlay",
             "size": 10,
             "solidity": 0.2
            },
            "type": "scatter"
           }
          ],
          "scatter3d": [
           {
            "line": {
             "colorbar": {
              "outlinewidth": 0,
              "ticks": ""
             }
            },
            "marker": {
             "colorbar": {
              "outlinewidth": 0,
              "ticks": ""
             }
            },
            "type": "scatter3d"
           }
          ],
          "scattercarpet": [
           {
            "marker": {
             "colorbar": {
              "outlinewidth": 0,
              "ticks": ""
             }
            },
            "type": "scattercarpet"
           }
          ],
          "scattergeo": [
           {
            "marker": {
             "colorbar": {
              "outlinewidth": 0,
              "ticks": ""
             }
            },
            "type": "scattergeo"
           }
          ],
          "scattergl": [
           {
            "marker": {
             "colorbar": {
              "outlinewidth": 0,
              "ticks": ""
             }
            },
            "type": "scattergl"
           }
          ],
          "scattermapbox": [
           {
            "marker": {
             "colorbar": {
              "outlinewidth": 0,
              "ticks": ""
             }
            },
            "type": "scattermapbox"
           }
          ],
          "scatterpolar": [
           {
            "marker": {
             "colorbar": {
              "outlinewidth": 0,
              "ticks": ""
             }
            },
            "type": "scatterpolar"
           }
          ],
          "scatterpolargl": [
           {
            "marker": {
             "colorbar": {
              "outlinewidth": 0,
              "ticks": ""
             }
            },
            "type": "scatterpolargl"
           }
          ],
          "scatterternary": [
           {
            "marker": {
             "colorbar": {
              "outlinewidth": 0,
              "ticks": ""
             }
            },
            "type": "scatterternary"
           }
          ],
          "surface": [
           {
            "colorbar": {
             "outlinewidth": 0,
             "ticks": ""
            },
            "colorscale": [
             [
              0,
              "#0d0887"
             ],
             [
              0.1111111111111111,
              "#46039f"
             ],
             [
              0.2222222222222222,
              "#7201a8"
             ],
             [
              0.3333333333333333,
              "#9c179e"
             ],
             [
              0.4444444444444444,
              "#bd3786"
             ],
             [
              0.5555555555555556,
              "#d8576b"
             ],
             [
              0.6666666666666666,
              "#ed7953"
             ],
             [
              0.7777777777777778,
              "#fb9f3a"
             ],
             [
              0.8888888888888888,
              "#fdca26"
             ],
             [
              1,
              "#f0f921"
             ]
            ],
            "type": "surface"
           }
          ],
          "table": [
           {
            "cells": {
             "fill": {
              "color": "#EBF0F8"
             },
             "line": {
              "color": "white"
             }
            },
            "header": {
             "fill": {
              "color": "#C8D4E3"
             },
             "line": {
              "color": "white"
             }
            },
            "type": "table"
           }
          ]
         },
         "layout": {
          "annotationdefaults": {
           "arrowcolor": "#2a3f5f",
           "arrowhead": 0,
           "arrowwidth": 1
          },
          "autotypenumbers": "strict",
          "coloraxis": {
           "colorbar": {
            "outlinewidth": 0,
            "ticks": ""
           }
          },
          "colorscale": {
           "diverging": [
            [
             0,
             "#8e0152"
            ],
            [
             0.1,
             "#c51b7d"
            ],
            [
             0.2,
             "#de77ae"
            ],
            [
             0.3,
             "#f1b6da"
            ],
            [
             0.4,
             "#fde0ef"
            ],
            [
             0.5,
             "#f7f7f7"
            ],
            [
             0.6,
             "#e6f5d0"
            ],
            [
             0.7,
             "#b8e186"
            ],
            [
             0.8,
             "#7fbc41"
            ],
            [
             0.9,
             "#4d9221"
            ],
            [
             1,
             "#276419"
            ]
           ],
           "sequential": [
            [
             0,
             "#0d0887"
            ],
            [
             0.1111111111111111,
             "#46039f"
            ],
            [
             0.2222222222222222,
             "#7201a8"
            ],
            [
             0.3333333333333333,
             "#9c179e"
            ],
            [
             0.4444444444444444,
             "#bd3786"
            ],
            [
             0.5555555555555556,
             "#d8576b"
            ],
            [
             0.6666666666666666,
             "#ed7953"
            ],
            [
             0.7777777777777778,
             "#fb9f3a"
            ],
            [
             0.8888888888888888,
             "#fdca26"
            ],
            [
             1,
             "#f0f921"
            ]
           ],
           "sequentialminus": [
            [
             0,
             "#0d0887"
            ],
            [
             0.1111111111111111,
             "#46039f"
            ],
            [
             0.2222222222222222,
             "#7201a8"
            ],
            [
             0.3333333333333333,
             "#9c179e"
            ],
            [
             0.4444444444444444,
             "#bd3786"
            ],
            [
             0.5555555555555556,
             "#d8576b"
            ],
            [
             0.6666666666666666,
             "#ed7953"
            ],
            [
             0.7777777777777778,
             "#fb9f3a"
            ],
            [
             0.8888888888888888,
             "#fdca26"
            ],
            [
             1,
             "#f0f921"
            ]
           ]
          },
          "colorway": [
           "#636efa",
           "#EF553B",
           "#00cc96",
           "#ab63fa",
           "#FFA15A",
           "#19d3f3",
           "#FF6692",
           "#B6E880",
           "#FF97FF",
           "#FECB52"
          ],
          "font": {
           "color": "#2a3f5f"
          },
          "geo": {
           "bgcolor": "white",
           "lakecolor": "white",
           "landcolor": "#E5ECF6",
           "showlakes": true,
           "showland": true,
           "subunitcolor": "white"
          },
          "hoverlabel": {
           "align": "left"
          },
          "hovermode": "closest",
          "mapbox": {
           "style": "light"
          },
          "paper_bgcolor": "white",
          "plot_bgcolor": "#E5ECF6",
          "polar": {
           "angularaxis": {
            "gridcolor": "white",
            "linecolor": "white",
            "ticks": ""
           },
           "bgcolor": "#E5ECF6",
           "radialaxis": {
            "gridcolor": "white",
            "linecolor": "white",
            "ticks": ""
           }
          },
          "scene": {
           "xaxis": {
            "backgroundcolor": "#E5ECF6",
            "gridcolor": "white",
            "gridwidth": 2,
            "linecolor": "white",
            "showbackground": true,
            "ticks": "",
            "zerolinecolor": "white"
           },
           "yaxis": {
            "backgroundcolor": "#E5ECF6",
            "gridcolor": "white",
            "gridwidth": 2,
            "linecolor": "white",
            "showbackground": true,
            "ticks": "",
            "zerolinecolor": "white"
           },
           "zaxis": {
            "backgroundcolor": "#E5ECF6",
            "gridcolor": "white",
            "gridwidth": 2,
            "linecolor": "white",
            "showbackground": true,
            "ticks": "",
            "zerolinecolor": "white"
           }
          },
          "shapedefaults": {
           "line": {
            "color": "#2a3f5f"
           }
          },
          "ternary": {
           "aaxis": {
            "gridcolor": "white",
            "linecolor": "white",
            "ticks": ""
           },
           "baxis": {
            "gridcolor": "white",
            "linecolor": "white",
            "ticks": ""
           },
           "bgcolor": "#E5ECF6",
           "caxis": {
            "gridcolor": "white",
            "linecolor": "white",
            "ticks": ""
           }
          },
          "title": {
           "x": 0.05
          },
          "xaxis": {
           "automargin": true,
           "gridcolor": "white",
           "linecolor": "white",
           "ticks": "",
           "title": {
            "standoff": 15
           },
           "zerolinecolor": "white",
           "zerolinewidth": 2
          },
          "yaxis": {
           "automargin": true,
           "gridcolor": "white",
           "linecolor": "white",
           "ticks": "",
           "title": {
            "standoff": 15
           },
           "zerolinecolor": "white",
           "zerolinewidth": 2
          }
         }
        },
        "title": {
         "text": "Slice Plot"
        },
        "width": 3300,
        "xaxis": {
         "anchor": "y",
         "domain": [
          0,
          0.07438016528925619
         ],
         "title": {
          "text": "booster"
         }
        },
        "xaxis10": {
         "anchor": "y10",
         "domain": [
          0.8330578512396694,
          0.9074380165289255
         ],
         "title": {
          "text": "reg_lambda"
         },
         "type": "log"
        },
        "xaxis11": {
         "anchor": "y11",
         "domain": [
          0.9256198347107437,
          0.9999999999999999
         ],
         "title": {
          "text": "subsample"
         }
        },
        "xaxis2": {
         "anchor": "y2",
         "domain": [
          0.09256198347107437,
          0.16694214876033056
         ],
         "title": {
          "text": "classifier"
         }
        },
        "xaxis3": {
         "anchor": "y3",
         "domain": [
          0.18512396694214875,
          0.25950413223140495
         ],
         "title": {
          "text": "criterion"
         }
        },
        "xaxis4": {
         "anchor": "y4",
         "domain": [
          0.27768595041322314,
          0.3520661157024793
         ],
         "title": {
          "text": "max_depth"
         },
         "type": "log"
        },
        "xaxis5": {
         "anchor": "y5",
         "domain": [
          0.3702479338842975,
          0.44462809917355367
         ],
         "title": {
          "text": "max_features"
         }
        },
        "xaxis6": {
         "anchor": "y6",
         "domain": [
          0.46280991735537186,
          0.5371900826446281
         ],
         "title": {
          "text": "min_samples_leaf"
         }
        },
        "xaxis7": {
         "anchor": "y7",
         "domain": [
          0.5553719008264462,
          0.6297520661157023
         ],
         "title": {
          "text": "min_samples_split"
         }
        },
        "xaxis8": {
         "anchor": "y8",
         "domain": [
          0.6479338842975206,
          0.7223140495867768
         ],
         "title": {
          "text": "n_estimators"
         }
        },
        "xaxis9": {
         "anchor": "y9",
         "domain": [
          0.740495867768595,
          0.8148760330578512
         ],
         "title": {
          "text": "reg_alpha"
         },
         "type": "log"
        },
        "yaxis": {
         "anchor": "x",
         "domain": [
          0,
          1
         ],
         "title": {
          "text": "Objective Value"
         }
        },
        "yaxis10": {
         "anchor": "x10",
         "domain": [
          0,
          1
         ],
         "matches": "y",
         "showticklabels": false
        },
        "yaxis11": {
         "anchor": "x11",
         "domain": [
          0,
          1
         ],
         "matches": "y",
         "showticklabels": false
        },
        "yaxis2": {
         "anchor": "x2",
         "domain": [
          0,
          1
         ],
         "matches": "y",
         "showticklabels": false
        },
        "yaxis3": {
         "anchor": "x3",
         "domain": [
          0,
          1
         ],
         "matches": "y",
         "showticklabels": false
        },
        "yaxis4": {
         "anchor": "x4",
         "domain": [
          0,
          1
         ],
         "matches": "y",
         "showticklabels": false
        },
        "yaxis5": {
         "anchor": "x5",
         "domain": [
          0,
          1
         ],
         "matches": "y",
         "showticklabels": false
        },
        "yaxis6": {
         "anchor": "x6",
         "domain": [
          0,
          1
         ],
         "matches": "y",
         "showticklabels": false
        },
        "yaxis7": {
         "anchor": "x7",
         "domain": [
          0,
          1
         ],
         "matches": "y",
         "showticklabels": false
        },
        "yaxis8": {
         "anchor": "x8",
         "domain": [
          0,
          1
         ],
         "matches": "y",
         "showticklabels": false
        },
        "yaxis9": {
         "anchor": "x9",
         "domain": [
          0,
          1
         ],
         "matches": "y",
         "showticklabels": false
        }
       }
      }
     },
     "metadata": {},
     "output_type": "display_data"
    }
   ],
   "source": [
    "# Individually plotting the hyperparameter importance and study\n",
    "optuna.visualization.plot_slice(study)"
   ]
  },
  {
   "cell_type": "code",
   "execution_count": 206,
   "metadata": {},
   "outputs": [
    {
     "data": {
      "application/vnd.plotly.v1+json": {
       "config": {
        "plotlyServerURL": "https://plot.ly"
       },
       "data": [
        {
         "marker": {
          "color": [
           1,
           2,
           4,
           6,
           7,
           8,
           10,
           11,
           12,
           13,
           14,
           15,
           16,
           17,
           19
          ],
          "colorbar": {
           "title": {
            "text": "#Trials"
           },
           "x": 1,
           "xpad": 40
          },
          "colorscale": [
           [
            0,
            "rgb(247,251,255)"
           ],
           [
            0.125,
            "rgb(222,235,247)"
           ],
           [
            0.25,
            "rgb(198,219,239)"
           ],
           [
            0.375,
            "rgb(158,202,225)"
           ],
           [
            0.5,
            "rgb(107,174,214)"
           ],
           [
            0.625,
            "rgb(66,146,198)"
           ],
           [
            0.75,
            "rgb(33,113,181)"
           ],
           [
            0.875,
            "rgb(8,81,156)"
           ],
           [
            1,
            "rgb(8,48,107)"
           ]
          ],
          "line": {
           "color": "Grey",
           "width": 0.5
          },
          "showscale": true
         },
         "mode": "markers",
         "showlegend": false,
         "type": "scatter",
         "x": [
          0.004658737326919441,
          0.3516488457192695,
          1.646225628508589,
          0.02462482957491286,
          0.5040136644104368,
          2.487037589546192,
          0.0775785275816061,
          0.09580386317495111,
          0.2774618761227754,
          0.03513653104257338,
          8.154108007121875,
          0.27406057581362114,
          0.002817657135963309,
          0.011984598298259508,
          0.16367878514182851
         ],
         "xaxis": "x",
         "y": [
          0.8098812051368911,
          0.9460103267148225,
          0.021416926041203495,
          0.9460757797058775,
          0.9466372576829252,
          0.021416926041203495,
          0.9461611120071417,
          0.9469212133239187,
          0.9471875261726915,
          0.9467033022139812,
          0.9466796210731182,
          0.9426485384924221,
          0.9466537671129888,
          0.9466211474873224,
          0.9466617332240628
         ],
         "yaxis": "y"
        },
        {
         "marker": {
          "color": [
           1,
           2,
           4,
           6,
           7,
           8,
           10,
           11,
           12,
           13,
           14,
           15,
           16,
           17,
           19
          ],
          "colorbar": {
           "title": {
            "text": "#Trials"
           },
           "x": 1,
           "xpad": 40
          },
          "colorscale": [
           [
            0,
            "rgb(247,251,255)"
           ],
           [
            0.125,
            "rgb(222,235,247)"
           ],
           [
            0.25,
            "rgb(198,219,239)"
           ],
           [
            0.375,
            "rgb(158,202,225)"
           ],
           [
            0.5,
            "rgb(107,174,214)"
           ],
           [
            0.625,
            "rgb(66,146,198)"
           ],
           [
            0.75,
            "rgb(33,113,181)"
           ],
           [
            0.875,
            "rgb(8,81,156)"
           ],
           [
            1,
            "rgb(8,48,107)"
           ]
          ],
          "line": {
           "color": "Grey",
           "width": 0.5
          },
          "showscale": false
         },
         "mode": "markers",
         "showlegend": false,
         "type": "scatter",
         "x": [
          0.3741377281287462,
          0.11396142960872553,
          0.21953324954479755,
          0.0379940009175887,
          0.003420660824771215,
          0.3326811004059107,
          0.0010624226058388551,
          0.0014937656164554563,
          0.00109327754030009,
          6.688620280508895,
          0.010282494664600673,
          0.00102652352907526,
          0.016447877227164856,
          0.004475890802448897,
          2.4843054473322215
         ],
         "xaxis": "x2",
         "y": [
          0.8098812051368911,
          0.9460103267148225,
          0.021416926041203495,
          0.9460757797058775,
          0.9466372576829252,
          0.021416926041203495,
          0.9461611120071417,
          0.9469212133239187,
          0.9471875261726915,
          0.9467033022139812,
          0.9466796210731182,
          0.9426485384924221,
          0.9466537671129888,
          0.9466211474873224,
          0.9466617332240628
         ],
         "yaxis": "y2"
        },
        {
         "marker": {
          "color": [
           1,
           2,
           4,
           6,
           7,
           8,
           10,
           11,
           12,
           13,
           14,
           15,
           16,
           17,
           19
          ],
          "colorbar": {
           "title": {
            "text": "#Trials"
           },
           "x": 1,
           "xpad": 40
          },
          "colorscale": [
           [
            0,
            "rgb(247,251,255)"
           ],
           [
            0.125,
            "rgb(222,235,247)"
           ],
           [
            0.25,
            "rgb(198,219,239)"
           ],
           [
            0.375,
            "rgb(158,202,225)"
           ],
           [
            0.5,
            "rgb(107,174,214)"
           ],
           [
            0.625,
            "rgb(66,146,198)"
           ],
           [
            0.75,
            "rgb(33,113,181)"
           ],
           [
            0.875,
            "rgb(8,81,156)"
           ],
           [
            1,
            "rgb(8,48,107)"
           ]
          ],
          "line": {
           "color": "Grey",
           "width": 0.5
          },
          "showscale": false
         },
         "mode": "markers",
         "showlegend": false,
         "type": "scatter",
         "x": [
          0.7570257489079061,
          0.14894136141399833,
          0.8165236310492909,
          0.21423887924537433,
          0.6259568088034948,
          0.4364293721676722,
          0.55280462445242,
          0.5616180524788518,
          0.6028534235775451,
          0.43710811851787146,
          0.9431474493983463,
          0.37329925991206747,
          0.6719152802100168,
          0.5170659443480932,
          0.2775088211054112
         ],
         "xaxis": "x3",
         "y": [
          0.8098812051368911,
          0.9460103267148225,
          0.021416926041203495,
          0.9460757797058775,
          0.9466372576829252,
          0.021416926041203495,
          0.9461611120071417,
          0.9469212133239187,
          0.9471875261726915,
          0.9467033022139812,
          0.9466796210731182,
          0.9426485384924221,
          0.9466537671129888,
          0.9466211474873224,
          0.9466617332240628
         ],
         "yaxis": "y3"
        }
       ],
       "layout": {
        "template": {
         "data": {
          "bar": [
           {
            "error_x": {
             "color": "#2a3f5f"
            },
            "error_y": {
             "color": "#2a3f5f"
            },
            "marker": {
             "line": {
              "color": "#E5ECF6",
              "width": 0.5
             },
             "pattern": {
              "fillmode": "overlay",
              "size": 10,
              "solidity": 0.2
             }
            },
            "type": "bar"
           }
          ],
          "barpolar": [
           {
            "marker": {
             "line": {
              "color": "#E5ECF6",
              "width": 0.5
             },
             "pattern": {
              "fillmode": "overlay",
              "size": 10,
              "solidity": 0.2
             }
            },
            "type": "barpolar"
           }
          ],
          "carpet": [
           {
            "aaxis": {
             "endlinecolor": "#2a3f5f",
             "gridcolor": "white",
             "linecolor": "white",
             "minorgridcolor": "white",
             "startlinecolor": "#2a3f5f"
            },
            "baxis": {
             "endlinecolor": "#2a3f5f",
             "gridcolor": "white",
             "linecolor": "white",
             "minorgridcolor": "white",
             "startlinecolor": "#2a3f5f"
            },
            "type": "carpet"
           }
          ],
          "choropleth": [
           {
            "colorbar": {
             "outlinewidth": 0,
             "ticks": ""
            },
            "type": "choropleth"
           }
          ],
          "contour": [
           {
            "colorbar": {
             "outlinewidth": 0,
             "ticks": ""
            },
            "colorscale": [
             [
              0,
              "#0d0887"
             ],
             [
              0.1111111111111111,
              "#46039f"
             ],
             [
              0.2222222222222222,
              "#7201a8"
             ],
             [
              0.3333333333333333,
              "#9c179e"
             ],
             [
              0.4444444444444444,
              "#bd3786"
             ],
             [
              0.5555555555555556,
              "#d8576b"
             ],
             [
              0.6666666666666666,
              "#ed7953"
             ],
             [
              0.7777777777777778,
              "#fb9f3a"
             ],
             [
              0.8888888888888888,
              "#fdca26"
             ],
             [
              1,
              "#f0f921"
             ]
            ],
            "type": "contour"
           }
          ],
          "contourcarpet": [
           {
            "colorbar": {
             "outlinewidth": 0,
             "ticks": ""
            },
            "type": "contourcarpet"
           }
          ],
          "heatmap": [
           {
            "colorbar": {
             "outlinewidth": 0,
             "ticks": ""
            },
            "colorscale": [
             [
              0,
              "#0d0887"
             ],
             [
              0.1111111111111111,
              "#46039f"
             ],
             [
              0.2222222222222222,
              "#7201a8"
             ],
             [
              0.3333333333333333,
              "#9c179e"
             ],
             [
              0.4444444444444444,
              "#bd3786"
             ],
             [
              0.5555555555555556,
              "#d8576b"
             ],
             [
              0.6666666666666666,
              "#ed7953"
             ],
             [
              0.7777777777777778,
              "#fb9f3a"
             ],
             [
              0.8888888888888888,
              "#fdca26"
             ],
             [
              1,
              "#f0f921"
             ]
            ],
            "type": "heatmap"
           }
          ],
          "heatmapgl": [
           {
            "colorbar": {
             "outlinewidth": 0,
             "ticks": ""
            },
            "colorscale": [
             [
              0,
              "#0d0887"
             ],
             [
              0.1111111111111111,
              "#46039f"
             ],
             [
              0.2222222222222222,
              "#7201a8"
             ],
             [
              0.3333333333333333,
              "#9c179e"
             ],
             [
              0.4444444444444444,
              "#bd3786"
             ],
             [
              0.5555555555555556,
              "#d8576b"
             ],
             [
              0.6666666666666666,
              "#ed7953"
             ],
             [
              0.7777777777777778,
              "#fb9f3a"
             ],
             [
              0.8888888888888888,
              "#fdca26"
             ],
             [
              1,
              "#f0f921"
             ]
            ],
            "type": "heatmapgl"
           }
          ],
          "histogram": [
           {
            "marker": {
             "pattern": {
              "fillmode": "overlay",
              "size": 10,
              "solidity": 0.2
             }
            },
            "type": "histogram"
           }
          ],
          "histogram2d": [
           {
            "colorbar": {
             "outlinewidth": 0,
             "ticks": ""
            },
            "colorscale": [
             [
              0,
              "#0d0887"
             ],
             [
              0.1111111111111111,
              "#46039f"
             ],
             [
              0.2222222222222222,
              "#7201a8"
             ],
             [
              0.3333333333333333,
              "#9c179e"
             ],
             [
              0.4444444444444444,
              "#bd3786"
             ],
             [
              0.5555555555555556,
              "#d8576b"
             ],
             [
              0.6666666666666666,
              "#ed7953"
             ],
             [
              0.7777777777777778,
              "#fb9f3a"
             ],
             [
              0.8888888888888888,
              "#fdca26"
             ],
             [
              1,
              "#f0f921"
             ]
            ],
            "type": "histogram2d"
           }
          ],
          "histogram2dcontour": [
           {
            "colorbar": {
             "outlinewidth": 0,
             "ticks": ""
            },
            "colorscale": [
             [
              0,
              "#0d0887"
             ],
             [
              0.1111111111111111,
              "#46039f"
             ],
             [
              0.2222222222222222,
              "#7201a8"
             ],
             [
              0.3333333333333333,
              "#9c179e"
             ],
             [
              0.4444444444444444,
              "#bd3786"
             ],
             [
              0.5555555555555556,
              "#d8576b"
             ],
             [
              0.6666666666666666,
              "#ed7953"
             ],
             [
              0.7777777777777778,
              "#fb9f3a"
             ],
             [
              0.8888888888888888,
              "#fdca26"
             ],
             [
              1,
              "#f0f921"
             ]
            ],
            "type": "histogram2dcontour"
           }
          ],
          "mesh3d": [
           {
            "colorbar": {
             "outlinewidth": 0,
             "ticks": ""
            },
            "type": "mesh3d"
           }
          ],
          "parcoords": [
           {
            "line": {
             "colorbar": {
              "outlinewidth": 0,
              "ticks": ""
             }
            },
            "type": "parcoords"
           }
          ],
          "pie": [
           {
            "automargin": true,
            "type": "pie"
           }
          ],
          "scatter": [
           {
            "fillpattern": {
             "fillmode": "overlay",
             "size": 10,
             "solidity": 0.2
            },
            "type": "scatter"
           }
          ],
          "scatter3d": [
           {
            "line": {
             "colorbar": {
              "outlinewidth": 0,
              "ticks": ""
             }
            },
            "marker": {
             "colorbar": {
              "outlinewidth": 0,
              "ticks": ""
             }
            },
            "type": "scatter3d"
           }
          ],
          "scattercarpet": [
           {
            "marker": {
             "colorbar": {
              "outlinewidth": 0,
              "ticks": ""
             }
            },
            "type": "scattercarpet"
           }
          ],
          "scattergeo": [
           {
            "marker": {
             "colorbar": {
              "outlinewidth": 0,
              "ticks": ""
             }
            },
            "type": "scattergeo"
           }
          ],
          "scattergl": [
           {
            "marker": {
             "colorbar": {
              "outlinewidth": 0,
              "ticks": ""
             }
            },
            "type": "scattergl"
           }
          ],
          "scattermapbox": [
           {
            "marker": {
             "colorbar": {
              "outlinewidth": 0,
              "ticks": ""
             }
            },
            "type": "scattermapbox"
           }
          ],
          "scatterpolar": [
           {
            "marker": {
             "colorbar": {
              "outlinewidth": 0,
              "ticks": ""
             }
            },
            "type": "scatterpolar"
           }
          ],
          "scatterpolargl": [
           {
            "marker": {
             "colorbar": {
              "outlinewidth": 0,
              "ticks": ""
             }
            },
            "type": "scatterpolargl"
           }
          ],
          "scatterternary": [
           {
            "marker": {
             "colorbar": {
              "outlinewidth": 0,
              "ticks": ""
             }
            },
            "type": "scatterternary"
           }
          ],
          "surface": [
           {
            "colorbar": {
             "outlinewidth": 0,
             "ticks": ""
            },
            "colorscale": [
             [
              0,
              "#0d0887"
             ],
             [
              0.1111111111111111,
              "#46039f"
             ],
             [
              0.2222222222222222,
              "#7201a8"
             ],
             [
              0.3333333333333333,
              "#9c179e"
             ],
             [
              0.4444444444444444,
              "#bd3786"
             ],
             [
              0.5555555555555556,
              "#d8576b"
             ],
             [
              0.6666666666666666,
              "#ed7953"
             ],
             [
              0.7777777777777778,
              "#fb9f3a"
             ],
             [
              0.8888888888888888,
              "#fdca26"
             ],
             [
              1,
              "#f0f921"
             ]
            ],
            "type": "surface"
           }
          ],
          "table": [
           {
            "cells": {
             "fill": {
              "color": "#EBF0F8"
             },
             "line": {
              "color": "white"
             }
            },
            "header": {
             "fill": {
              "color": "#C8D4E3"
             },
             "line": {
              "color": "white"
             }
            },
            "type": "table"
           }
          ]
         },
         "layout": {
          "annotationdefaults": {
           "arrowcolor": "#2a3f5f",
           "arrowhead": 0,
           "arrowwidth": 1
          },
          "autotypenumbers": "strict",
          "coloraxis": {
           "colorbar": {
            "outlinewidth": 0,
            "ticks": ""
           }
          },
          "colorscale": {
           "diverging": [
            [
             0,
             "#8e0152"
            ],
            [
             0.1,
             "#c51b7d"
            ],
            [
             0.2,
             "#de77ae"
            ],
            [
             0.3,
             "#f1b6da"
            ],
            [
             0.4,
             "#fde0ef"
            ],
            [
             0.5,
             "#f7f7f7"
            ],
            [
             0.6,
             "#e6f5d0"
            ],
            [
             0.7,
             "#b8e186"
            ],
            [
             0.8,
             "#7fbc41"
            ],
            [
             0.9,
             "#4d9221"
            ],
            [
             1,
             "#276419"
            ]
           ],
           "sequential": [
            [
             0,
             "#0d0887"
            ],
            [
             0.1111111111111111,
             "#46039f"
            ],
            [
             0.2222222222222222,
             "#7201a8"
            ],
            [
             0.3333333333333333,
             "#9c179e"
            ],
            [
             0.4444444444444444,
             "#bd3786"
            ],
            [
             0.5555555555555556,
             "#d8576b"
            ],
            [
             0.6666666666666666,
             "#ed7953"
            ],
            [
             0.7777777777777778,
             "#fb9f3a"
            ],
            [
             0.8888888888888888,
             "#fdca26"
            ],
            [
             1,
             "#f0f921"
            ]
           ],
           "sequentialminus": [
            [
             0,
             "#0d0887"
            ],
            [
             0.1111111111111111,
             "#46039f"
            ],
            [
             0.2222222222222222,
             "#7201a8"
            ],
            [
             0.3333333333333333,
             "#9c179e"
            ],
            [
             0.4444444444444444,
             "#bd3786"
            ],
            [
             0.5555555555555556,
             "#d8576b"
            ],
            [
             0.6666666666666666,
             "#ed7953"
            ],
            [
             0.7777777777777778,
             "#fb9f3a"
            ],
            [
             0.8888888888888888,
             "#fdca26"
            ],
            [
             1,
             "#f0f921"
            ]
           ]
          },
          "colorway": [
           "#636efa",
           "#EF553B",
           "#00cc96",
           "#ab63fa",
           "#FFA15A",
           "#19d3f3",
           "#FF6692",
           "#B6E880",
           "#FF97FF",
           "#FECB52"
          ],
          "font": {
           "color": "#2a3f5f"
          },
          "geo": {
           "bgcolor": "white",
           "lakecolor": "white",
           "landcolor": "#E5ECF6",
           "showlakes": true,
           "showland": true,
           "subunitcolor": "white"
          },
          "hoverlabel": {
           "align": "left"
          },
          "hovermode": "closest",
          "mapbox": {
           "style": "light"
          },
          "paper_bgcolor": "white",
          "plot_bgcolor": "#E5ECF6",
          "polar": {
           "angularaxis": {
            "gridcolor": "white",
            "linecolor": "white",
            "ticks": ""
           },
           "bgcolor": "#E5ECF6",
           "radialaxis": {
            "gridcolor": "white",
            "linecolor": "white",
            "ticks": ""
           }
          },
          "scene": {
           "xaxis": {
            "backgroundcolor": "#E5ECF6",
            "gridcolor": "white",
            "gridwidth": 2,
            "linecolor": "white",
            "showbackground": true,
            "ticks": "",
            "zerolinecolor": "white"
           },
           "yaxis": {
            "backgroundcolor": "#E5ECF6",
            "gridcolor": "white",
            "gridwidth": 2,
            "linecolor": "white",
            "showbackground": true,
            "ticks": "",
            "zerolinecolor": "white"
           },
           "zaxis": {
            "backgroundcolor": "#E5ECF6",
            "gridcolor": "white",
            "gridwidth": 2,
            "linecolor": "white",
            "showbackground": true,
            "ticks": "",
            "zerolinecolor": "white"
           }
          },
          "shapedefaults": {
           "line": {
            "color": "#2a3f5f"
           }
          },
          "ternary": {
           "aaxis": {
            "gridcolor": "white",
            "linecolor": "white",
            "ticks": ""
           },
           "baxis": {
            "gridcolor": "white",
            "linecolor": "white",
            "ticks": ""
           },
           "bgcolor": "#E5ECF6",
           "caxis": {
            "gridcolor": "white",
            "linecolor": "white",
            "ticks": ""
           }
          },
          "title": {
           "x": 0.05
          },
          "xaxis": {
           "automargin": true,
           "gridcolor": "white",
           "linecolor": "white",
           "ticks": "",
           "title": {
            "standoff": 15
           },
           "zerolinecolor": "white",
           "zerolinewidth": 2
          },
          "yaxis": {
           "automargin": true,
           "gridcolor": "white",
           "linecolor": "white",
           "ticks": "",
           "title": {
            "standoff": 15
           },
           "zerolinecolor": "white",
           "zerolinewidth": 2
          }
         }
        },
        "title": {
         "text": "Slice Plot"
        },
        "xaxis": {
         "anchor": "y",
         "domain": [
          0,
          0.2888888888888889
         ],
         "title": {
          "text": "reg_alpha"
         },
         "type": "log"
        },
        "xaxis2": {
         "anchor": "y2",
         "domain": [
          0.35555555555555557,
          0.6444444444444445
         ],
         "title": {
          "text": "reg_lambda"
         },
         "type": "log"
        },
        "xaxis3": {
         "anchor": "y3",
         "domain": [
          0.7111111111111111,
          1
         ],
         "title": {
          "text": "subsample"
         }
        },
        "yaxis": {
         "anchor": "x",
         "domain": [
          0,
          1
         ],
         "title": {
          "text": "Objective Value"
         }
        },
        "yaxis2": {
         "anchor": "x2",
         "domain": [
          0,
          1
         ],
         "matches": "y",
         "showticklabels": false
        },
        "yaxis3": {
         "anchor": "x3",
         "domain": [
          0,
          1
         ],
         "matches": "y",
         "showticklabels": false
        }
       }
      }
     },
     "metadata": {},
     "output_type": "display_data"
    }
   ],
   "source": [
    "# Further understanding the study for given parameters\n",
    "optuna.visualization.plot_slice(study, ['reg_alpha', 'subsample', 'reg_lambda'])"
   ]
  },
  {
   "cell_type": "code",
   "execution_count": 207,
   "metadata": {},
   "outputs": [
    {
     "data": {
      "application/vnd.plotly.v1+json": {
       "config": {
        "plotlyServerURL": "https://plot.ly"
       },
       "data": [
        {
         "mode": "markers",
         "name": "Objective Value",
         "type": "scatter",
         "x": [
          0,
          1,
          2,
          3,
          4,
          5,
          6,
          7,
          8,
          9,
          10,
          11,
          12,
          13,
          14,
          15,
          16,
          17,
          18,
          19
         ],
         "y": [
          0.9450586803994843,
          0.8098812051368911,
          0.9460103267148225,
          0.9450505295841759,
          0.021416926041203495,
          0.9444171552817706,
          0.9460757797058775,
          0.9466372576829252,
          0.021416926041203495,
          0.9446341504224173,
          0.9461611120071417,
          0.9469212133239187,
          0.9471875261726915,
          0.9467033022139812,
          0.9466796210731182,
          0.9426485384924221,
          0.9466537671129888,
          0.9466211474873224,
          0.8094196749365846,
          0.9466617332240628
         ]
        },
        {
         "name": "Best Value",
         "type": "scatter",
         "x": [
          0,
          1,
          2,
          3,
          4,
          5,
          6,
          7,
          8,
          9,
          10,
          11,
          12,
          13,
          14,
          15,
          16,
          17,
          18,
          19
         ],
         "y": [
          0.9450586803994843,
          0.9450586803994843,
          0.9460103267148225,
          0.9460103267148225,
          0.9460103267148225,
          0.9460103267148225,
          0.9460757797058775,
          0.9466372576829252,
          0.9466372576829252,
          0.9466372576829252,
          0.9466372576829252,
          0.9469212133239187,
          0.9471875261726915,
          0.9471875261726915,
          0.9471875261726915,
          0.9471875261726915,
          0.9471875261726915,
          0.9471875261726915,
          0.9471875261726915,
          0.9471875261726915
         ]
        }
       ],
       "layout": {
        "template": {
         "data": {
          "bar": [
           {
            "error_x": {
             "color": "#2a3f5f"
            },
            "error_y": {
             "color": "#2a3f5f"
            },
            "marker": {
             "line": {
              "color": "#E5ECF6",
              "width": 0.5
             },
             "pattern": {
              "fillmode": "overlay",
              "size": 10,
              "solidity": 0.2
             }
            },
            "type": "bar"
           }
          ],
          "barpolar": [
           {
            "marker": {
             "line": {
              "color": "#E5ECF6",
              "width": 0.5
             },
             "pattern": {
              "fillmode": "overlay",
              "size": 10,
              "solidity": 0.2
             }
            },
            "type": "barpolar"
           }
          ],
          "carpet": [
           {
            "aaxis": {
             "endlinecolor": "#2a3f5f",
             "gridcolor": "white",
             "linecolor": "white",
             "minorgridcolor": "white",
             "startlinecolor": "#2a3f5f"
            },
            "baxis": {
             "endlinecolor": "#2a3f5f",
             "gridcolor": "white",
             "linecolor": "white",
             "minorgridcolor": "white",
             "startlinecolor": "#2a3f5f"
            },
            "type": "carpet"
           }
          ],
          "choropleth": [
           {
            "colorbar": {
             "outlinewidth": 0,
             "ticks": ""
            },
            "type": "choropleth"
           }
          ],
          "contour": [
           {
            "colorbar": {
             "outlinewidth": 0,
             "ticks": ""
            },
            "colorscale": [
             [
              0,
              "#0d0887"
             ],
             [
              0.1111111111111111,
              "#46039f"
             ],
             [
              0.2222222222222222,
              "#7201a8"
             ],
             [
              0.3333333333333333,
              "#9c179e"
             ],
             [
              0.4444444444444444,
              "#bd3786"
             ],
             [
              0.5555555555555556,
              "#d8576b"
             ],
             [
              0.6666666666666666,
              "#ed7953"
             ],
             [
              0.7777777777777778,
              "#fb9f3a"
             ],
             [
              0.8888888888888888,
              "#fdca26"
             ],
             [
              1,
              "#f0f921"
             ]
            ],
            "type": "contour"
           }
          ],
          "contourcarpet": [
           {
            "colorbar": {
             "outlinewidth": 0,
             "ticks": ""
            },
            "type": "contourcarpet"
           }
          ],
          "heatmap": [
           {
            "colorbar": {
             "outlinewidth": 0,
             "ticks": ""
            },
            "colorscale": [
             [
              0,
              "#0d0887"
             ],
             [
              0.1111111111111111,
              "#46039f"
             ],
             [
              0.2222222222222222,
              "#7201a8"
             ],
             [
              0.3333333333333333,
              "#9c179e"
             ],
             [
              0.4444444444444444,
              "#bd3786"
             ],
             [
              0.5555555555555556,
              "#d8576b"
             ],
             [
              0.6666666666666666,
              "#ed7953"
             ],
             [
              0.7777777777777778,
              "#fb9f3a"
             ],
             [
              0.8888888888888888,
              "#fdca26"
             ],
             [
              1,
              "#f0f921"
             ]
            ],
            "type": "heatmap"
           }
          ],
          "heatmapgl": [
           {
            "colorbar": {
             "outlinewidth": 0,
             "ticks": ""
            },
            "colorscale": [
             [
              0,
              "#0d0887"
             ],
             [
              0.1111111111111111,
              "#46039f"
             ],
             [
              0.2222222222222222,
              "#7201a8"
             ],
             [
              0.3333333333333333,
              "#9c179e"
             ],
             [
              0.4444444444444444,
              "#bd3786"
             ],
             [
              0.5555555555555556,
              "#d8576b"
             ],
             [
              0.6666666666666666,
              "#ed7953"
             ],
             [
              0.7777777777777778,
              "#fb9f3a"
             ],
             [
              0.8888888888888888,
              "#fdca26"
             ],
             [
              1,
              "#f0f921"
             ]
            ],
            "type": "heatmapgl"
           }
          ],
          "histogram": [
           {
            "marker": {
             "pattern": {
              "fillmode": "overlay",
              "size": 10,
              "solidity": 0.2
             }
            },
            "type": "histogram"
           }
          ],
          "histogram2d": [
           {
            "colorbar": {
             "outlinewidth": 0,
             "ticks": ""
            },
            "colorscale": [
             [
              0,
              "#0d0887"
             ],
             [
              0.1111111111111111,
              "#46039f"
             ],
             [
              0.2222222222222222,
              "#7201a8"
             ],
             [
              0.3333333333333333,
              "#9c179e"
             ],
             [
              0.4444444444444444,
              "#bd3786"
             ],
             [
              0.5555555555555556,
              "#d8576b"
             ],
             [
              0.6666666666666666,
              "#ed7953"
             ],
             [
              0.7777777777777778,
              "#fb9f3a"
             ],
             [
              0.8888888888888888,
              "#fdca26"
             ],
             [
              1,
              "#f0f921"
             ]
            ],
            "type": "histogram2d"
           }
          ],
          "histogram2dcontour": [
           {
            "colorbar": {
             "outlinewidth": 0,
             "ticks": ""
            },
            "colorscale": [
             [
              0,
              "#0d0887"
             ],
             [
              0.1111111111111111,
              "#46039f"
             ],
             [
              0.2222222222222222,
              "#7201a8"
             ],
             [
              0.3333333333333333,
              "#9c179e"
             ],
             [
              0.4444444444444444,
              "#bd3786"
             ],
             [
              0.5555555555555556,
              "#d8576b"
             ],
             [
              0.6666666666666666,
              "#ed7953"
             ],
             [
              0.7777777777777778,
              "#fb9f3a"
             ],
             [
              0.8888888888888888,
              "#fdca26"
             ],
             [
              1,
              "#f0f921"
             ]
            ],
            "type": "histogram2dcontour"
           }
          ],
          "mesh3d": [
           {
            "colorbar": {
             "outlinewidth": 0,
             "ticks": ""
            },
            "type": "mesh3d"
           }
          ],
          "parcoords": [
           {
            "line": {
             "colorbar": {
              "outlinewidth": 0,
              "ticks": ""
             }
            },
            "type": "parcoords"
           }
          ],
          "pie": [
           {
            "automargin": true,
            "type": "pie"
           }
          ],
          "scatter": [
           {
            "fillpattern": {
             "fillmode": "overlay",
             "size": 10,
             "solidity": 0.2
            },
            "type": "scatter"
           }
          ],
          "scatter3d": [
           {
            "line": {
             "colorbar": {
              "outlinewidth": 0,
              "ticks": ""
             }
            },
            "marker": {
             "colorbar": {
              "outlinewidth": 0,
              "ticks": ""
             }
            },
            "type": "scatter3d"
           }
          ],
          "scattercarpet": [
           {
            "marker": {
             "colorbar": {
              "outlinewidth": 0,
              "ticks": ""
             }
            },
            "type": "scattercarpet"
           }
          ],
          "scattergeo": [
           {
            "marker": {
             "colorbar": {
              "outlinewidth": 0,
              "ticks": ""
             }
            },
            "type": "scattergeo"
           }
          ],
          "scattergl": [
           {
            "marker": {
             "colorbar": {
              "outlinewidth": 0,
              "ticks": ""
             }
            },
            "type": "scattergl"
           }
          ],
          "scattermapbox": [
           {
            "marker": {
             "colorbar": {
              "outlinewidth": 0,
              "ticks": ""
             }
            },
            "type": "scattermapbox"
           }
          ],
          "scatterpolar": [
           {
            "marker": {
             "colorbar": {
              "outlinewidth": 0,
              "ticks": ""
             }
            },
            "type": "scatterpolar"
           }
          ],
          "scatterpolargl": [
           {
            "marker": {
             "colorbar": {
              "outlinewidth": 0,
              "ticks": ""
             }
            },
            "type": "scatterpolargl"
           }
          ],
          "scatterternary": [
           {
            "marker": {
             "colorbar": {
              "outlinewidth": 0,
              "ticks": ""
             }
            },
            "type": "scatterternary"
           }
          ],
          "surface": [
           {
            "colorbar": {
             "outlinewidth": 0,
             "ticks": ""
            },
            "colorscale": [
             [
              0,
              "#0d0887"
             ],
             [
              0.1111111111111111,
              "#46039f"
             ],
             [
              0.2222222222222222,
              "#7201a8"
             ],
             [
              0.3333333333333333,
              "#9c179e"
             ],
             [
              0.4444444444444444,
              "#bd3786"
             ],
             [
              0.5555555555555556,
              "#d8576b"
             ],
             [
              0.6666666666666666,
              "#ed7953"
             ],
             [
              0.7777777777777778,
              "#fb9f3a"
             ],
             [
              0.8888888888888888,
              "#fdca26"
             ],
             [
              1,
              "#f0f921"
             ]
            ],
            "type": "surface"
           }
          ],
          "table": [
           {
            "cells": {
             "fill": {
              "color": "#EBF0F8"
             },
             "line": {
              "color": "white"
             }
            },
            "header": {
             "fill": {
              "color": "#C8D4E3"
             },
             "line": {
              "color": "white"
             }
            },
            "type": "table"
           }
          ]
         },
         "layout": {
          "annotationdefaults": {
           "arrowcolor": "#2a3f5f",
           "arrowhead": 0,
           "arrowwidth": 1
          },
          "autotypenumbers": "strict",
          "coloraxis": {
           "colorbar": {
            "outlinewidth": 0,
            "ticks": ""
           }
          },
          "colorscale": {
           "diverging": [
            [
             0,
             "#8e0152"
            ],
            [
             0.1,
             "#c51b7d"
            ],
            [
             0.2,
             "#de77ae"
            ],
            [
             0.3,
             "#f1b6da"
            ],
            [
             0.4,
             "#fde0ef"
            ],
            [
             0.5,
             "#f7f7f7"
            ],
            [
             0.6,
             "#e6f5d0"
            ],
            [
             0.7,
             "#b8e186"
            ],
            [
             0.8,
             "#7fbc41"
            ],
            [
             0.9,
             "#4d9221"
            ],
            [
             1,
             "#276419"
            ]
           ],
           "sequential": [
            [
             0,
             "#0d0887"
            ],
            [
             0.1111111111111111,
             "#46039f"
            ],
            [
             0.2222222222222222,
             "#7201a8"
            ],
            [
             0.3333333333333333,
             "#9c179e"
            ],
            [
             0.4444444444444444,
             "#bd3786"
            ],
            [
             0.5555555555555556,
             "#d8576b"
            ],
            [
             0.6666666666666666,
             "#ed7953"
            ],
            [
             0.7777777777777778,
             "#fb9f3a"
            ],
            [
             0.8888888888888888,
             "#fdca26"
            ],
            [
             1,
             "#f0f921"
            ]
           ],
           "sequentialminus": [
            [
             0,
             "#0d0887"
            ],
            [
             0.1111111111111111,
             "#46039f"
            ],
            [
             0.2222222222222222,
             "#7201a8"
            ],
            [
             0.3333333333333333,
             "#9c179e"
            ],
            [
             0.4444444444444444,
             "#bd3786"
            ],
            [
             0.5555555555555556,
             "#d8576b"
            ],
            [
             0.6666666666666666,
             "#ed7953"
            ],
            [
             0.7777777777777778,
             "#fb9f3a"
            ],
            [
             0.8888888888888888,
             "#fdca26"
            ],
            [
             1,
             "#f0f921"
            ]
           ]
          },
          "colorway": [
           "#636efa",
           "#EF553B",
           "#00cc96",
           "#ab63fa",
           "#FFA15A",
           "#19d3f3",
           "#FF6692",
           "#B6E880",
           "#FF97FF",
           "#FECB52"
          ],
          "font": {
           "color": "#2a3f5f"
          },
          "geo": {
           "bgcolor": "white",
           "lakecolor": "white",
           "landcolor": "#E5ECF6",
           "showlakes": true,
           "showland": true,
           "subunitcolor": "white"
          },
          "hoverlabel": {
           "align": "left"
          },
          "hovermode": "closest",
          "mapbox": {
           "style": "light"
          },
          "paper_bgcolor": "white",
          "plot_bgcolor": "#E5ECF6",
          "polar": {
           "angularaxis": {
            "gridcolor": "white",
            "linecolor": "white",
            "ticks": ""
           },
           "bgcolor": "#E5ECF6",
           "radialaxis": {
            "gridcolor": "white",
            "linecolor": "white",
            "ticks": ""
           }
          },
          "scene": {
           "xaxis": {
            "backgroundcolor": "#E5ECF6",
            "gridcolor": "white",
            "gridwidth": 2,
            "linecolor": "white",
            "showbackground": true,
            "ticks": "",
            "zerolinecolor": "white"
           },
           "yaxis": {
            "backgroundcolor": "#E5ECF6",
            "gridcolor": "white",
            "gridwidth": 2,
            "linecolor": "white",
            "showbackground": true,
            "ticks": "",
            "zerolinecolor": "white"
           },
           "zaxis": {
            "backgroundcolor": "#E5ECF6",
            "gridcolor": "white",
            "gridwidth": 2,
            "linecolor": "white",
            "showbackground": true,
            "ticks": "",
            "zerolinecolor": "white"
           }
          },
          "shapedefaults": {
           "line": {
            "color": "#2a3f5f"
           }
          },
          "ternary": {
           "aaxis": {
            "gridcolor": "white",
            "linecolor": "white",
            "ticks": ""
           },
           "baxis": {
            "gridcolor": "white",
            "linecolor": "white",
            "ticks": ""
           },
           "bgcolor": "#E5ECF6",
           "caxis": {
            "gridcolor": "white",
            "linecolor": "white",
            "ticks": ""
           }
          },
          "title": {
           "x": 0.05
          },
          "xaxis": {
           "automargin": true,
           "gridcolor": "white",
           "linecolor": "white",
           "ticks": "",
           "title": {
            "standoff": 15
           },
           "zerolinecolor": "white",
           "zerolinewidth": 2
          },
          "yaxis": {
           "automargin": true,
           "gridcolor": "white",
           "linecolor": "white",
           "ticks": "",
           "title": {
            "standoff": 15
           },
           "zerolinecolor": "white",
           "zerolinewidth": 2
          }
         }
        },
        "title": {
         "text": "Optimization History Plot"
        },
        "xaxis": {
         "title": {
          "text": "#Trials"
         }
        },
        "yaxis": {
         "title": {
          "text": "Objective Value"
         }
        }
       }
      }
     },
     "metadata": {},
     "output_type": "display_data"
    }
   ],
   "source": [
    "# Plotting the study history\n",
    "optuna.visualization.plot_optimization_history(study)"
   ]
  },
  {
   "cell_type": "code",
   "execution_count": 150,
   "metadata": {},
   "outputs": [
    {
     "data": {
      "text/html": [
       "<div>\n",
       "<style scoped>\n",
       "    .dataframe tbody tr th:only-of-type {\n",
       "        vertical-align: middle;\n",
       "    }\n",
       "\n",
       "    .dataframe tbody tr th {\n",
       "        vertical-align: top;\n",
       "    }\n",
       "\n",
       "    .dataframe thead th {\n",
       "        text-align: right;\n",
       "    }\n",
       "</style>\n",
       "<table border=\"1\" class=\"dataframe\">\n",
       "  <thead>\n",
       "    <tr style=\"text-align: right;\">\n",
       "      <th></th>\n",
       "      <th>number</th>\n",
       "      <th>value</th>\n",
       "      <th>datetime_start</th>\n",
       "      <th>datetime_complete</th>\n",
       "      <th>duration</th>\n",
       "      <th>booster</th>\n",
       "      <th>classifier</th>\n",
       "      <th>criterion</th>\n",
       "      <th>max_depth</th>\n",
       "      <th>max_features</th>\n",
       "      <th>min_samples_leaf</th>\n",
       "      <th>min_samples_split</th>\n",
       "      <th>n_estimators</th>\n",
       "      <th>reg_alpha</th>\n",
       "      <th>reg_lambda</th>\n",
       "      <th>subsample</th>\n",
       "      <th>state</th>\n",
       "    </tr>\n",
       "  </thead>\n",
       "  <tbody>\n",
       "    <tr>\n",
       "      <th>12</th>\n",
       "      <td>12</td>\n",
       "      <td>0.947188</td>\n",
       "      <td>2022-12-07 16:09:39.380564</td>\n",
       "      <td>2022-12-07 16:09:58.311179</td>\n",
       "      <td>0 days 00:00:18.930615</td>\n",
       "      <td>gbtree</td>\n",
       "      <td>XGB</td>\n",
       "      <td></td>\n",
       "      <td>4.493821</td>\n",
       "      <td></td>\n",
       "      <td></td>\n",
       "      <td></td>\n",
       "      <td></td>\n",
       "      <td>0.277462</td>\n",
       "      <td>0.001093</td>\n",
       "      <td>0.602853</td>\n",
       "      <td>COMPLETE</td>\n",
       "    </tr>\n",
       "    <tr>\n",
       "      <th>0</th>\n",
       "      <td>0</td>\n",
       "      <td>0.945059</td>\n",
       "      <td>2022-12-07 16:04:29.001679</td>\n",
       "      <td>2022-12-07 16:04:31.580027</td>\n",
       "      <td>0 days 00:00:02.578348</td>\n",
       "      <td></td>\n",
       "      <td>RandomForest</td>\n",
       "      <td>entropy</td>\n",
       "      <td>31.166378</td>\n",
       "      <td>2.0</td>\n",
       "      <td>11.0</td>\n",
       "      <td>2.0</td>\n",
       "      <td>137.0</td>\n",
       "      <td></td>\n",
       "      <td></td>\n",
       "      <td></td>\n",
       "      <td>COMPLETE</td>\n",
       "    </tr>\n",
       "  </tbody>\n",
       "</table>\n",
       "</div>"
      ],
      "text/plain": [
       "    number     value             datetime_start          datetime_complete  \\\n",
       "12      12  0.947188 2022-12-07 16:09:39.380564 2022-12-07 16:09:58.311179   \n",
       "0        0  0.945059 2022-12-07 16:04:29.001679 2022-12-07 16:04:31.580027   \n",
       "\n",
       "                 duration booster    classifier criterion  max_depth  \\\n",
       "12 0 days 00:00:18.930615  gbtree           XGB             4.493821   \n",
       "0  0 days 00:00:02.578348          RandomForest   entropy  31.166378   \n",
       "\n",
       "   max_features min_samples_leaf min_samples_split n_estimators reg_alpha  \\\n",
       "12                                                               0.277462   \n",
       "0           2.0             11.0               2.0        137.0             \n",
       "\n",
       "   reg_lambda subsample     state  \n",
       "12   0.001093  0.602853  COMPLETE  \n",
       "0                        COMPLETE  "
      ]
     },
     "execution_count": 150,
     "metadata": {},
     "output_type": "execute_result"
    }
   ],
   "source": [
    "# Getting the best parameters and f1 score for each model using optuna's best trial dataframe\n",
    "opt_df = study.trials_dataframe().fillna('')\n",
    "opt_df = opt_df.sort_values(by = 'value', ascending = False).groupby('params_classifier').head(1)\n",
    "param_cols = [col for col in opt_df.columns if col.startswith('params_')]\n",
    "opt_df = opt_df.rename(columns = {col: col.replace('params_', '') for col in param_cols})\n",
    "opt_df"
   ]
  },
  {
   "cell_type": "code",
   "execution_count": 151,
   "metadata": {},
   "outputs": [
    {
     "data": {
      "text/html": [
       "<div>\n",
       "<style scoped>\n",
       "    .dataframe tbody tr th:only-of-type {\n",
       "        vertical-align: middle;\n",
       "    }\n",
       "\n",
       "    .dataframe tbody tr th {\n",
       "        vertical-align: top;\n",
       "    }\n",
       "\n",
       "    .dataframe thead th {\n",
       "        text-align: right;\n",
       "    }\n",
       "</style>\n",
       "<table border=\"1\" class=\"dataframe\">\n",
       "  <thead>\n",
       "    <tr style=\"text-align: right;\">\n",
       "      <th></th>\n",
       "      <th>model</th>\n",
       "      <th>params</th>\n",
       "      <th>accuracy</th>\n",
       "      <th>precision</th>\n",
       "      <th>recall</th>\n",
       "      <th>f1</th>\n",
       "      <th>logloss</th>\n",
       "      <th>kappa</th>\n",
       "      <th>mcc</th>\n",
       "    </tr>\n",
       "  </thead>\n",
       "  <tbody>\n",
       "    <tr>\n",
       "      <th>0</th>\n",
       "      <td>XGB</td>\n",
       "      <td>{'booster': 'gbtree', 'reg_alpha': 0.170297591...</td>\n",
       "      <td>0.948658</td>\n",
       "      <td>0.957095</td>\n",
       "      <td>0.948658</td>\n",
       "      <td>0.947271</td>\n",
       "      <td>0.130238</td>\n",
       "      <td>0.942249</td>\n",
       "      <td>0.943720</td>\n",
       "    </tr>\n",
       "    <tr>\n",
       "      <th>0</th>\n",
       "      <td>RandomForest</td>\n",
       "      <td>{'criterion': 'entropy', 'n_estimators': 234, ...</td>\n",
       "      <td>0.860412</td>\n",
       "      <td>0.900175</td>\n",
       "      <td>0.860412</td>\n",
       "      <td>0.843264</td>\n",
       "      <td>0.624378</td>\n",
       "      <td>0.843030</td>\n",
       "      <td>0.850921</td>\n",
       "    </tr>\n",
       "    <tr>\n",
       "      <th>0</th>\n",
       "      <td>RandomForest</td>\n",
       "      <td>{'criterion': 'entropy', 'n_estimators': 137, ...</td>\n",
       "      <td>0.946382</td>\n",
       "      <td>0.950355</td>\n",
       "      <td>0.946382</td>\n",
       "      <td>0.945059</td>\n",
       "      <td>0.151834</td>\n",
       "      <td>0.939686</td>\n",
       "      <td>0.940546</td>\n",
       "    </tr>\n",
       "    <tr>\n",
       "      <th>0</th>\n",
       "      <td>XGB</td>\n",
       "      <td>{'booster': 'gblinear', 'reg_alpha': 0.0046587...</td>\n",
       "      <td>0.823269</td>\n",
       "      <td>0.826551</td>\n",
       "      <td>0.823269</td>\n",
       "      <td>0.809881</td>\n",
       "      <td>0.919254</td>\n",
       "      <td>0.801247</td>\n",
       "      <td>0.805079</td>\n",
       "    </tr>\n",
       "    <tr>\n",
       "      <th>0</th>\n",
       "      <td>XGB</td>\n",
       "      <td>{'booster': 'dart', 'reg_alpha': 0.35164884571...</td>\n",
       "      <td>0.947520</td>\n",
       "      <td>0.955912</td>\n",
       "      <td>0.947520</td>\n",
       "      <td>0.946010</td>\n",
       "      <td>0.128318</td>\n",
       "      <td>0.940969</td>\n",
       "      <td>0.942467</td>\n",
       "    </tr>\n",
       "    <tr>\n",
       "      <th>0</th>\n",
       "      <td>RandomForest</td>\n",
       "      <td>{'criterion': 'log_loss', 'n_estimators': 412,...</td>\n",
       "      <td>0.946382</td>\n",
       "      <td>0.950356</td>\n",
       "      <td>0.946382</td>\n",
       "      <td>0.945051</td>\n",
       "      <td>0.152101</td>\n",
       "      <td>0.939686</td>\n",
       "      <td>0.940547</td>\n",
       "    </tr>\n",
       "    <tr>\n",
       "      <th>0</th>\n",
       "      <td>XGB</td>\n",
       "      <td>{'booster': 'gblinear', 'reg_alpha': 1.6462256...</td>\n",
       "      <td>0.108974</td>\n",
       "      <td>0.011875</td>\n",
       "      <td>0.108974</td>\n",
       "      <td>0.021417</td>\n",
       "      <td>2.197331</td>\n",
       "      <td>0.000000</td>\n",
       "      <td>0.000000</td>\n",
       "    </tr>\n",
       "    <tr>\n",
       "      <th>0</th>\n",
       "      <td>RandomForest</td>\n",
       "      <td>{'criterion': 'log_loss', 'n_estimators': 423,...</td>\n",
       "      <td>0.946441</td>\n",
       "      <td>0.955559</td>\n",
       "      <td>0.946441</td>\n",
       "      <td>0.944417</td>\n",
       "      <td>0.169805</td>\n",
       "      <td>0.939756</td>\n",
       "      <td>0.941381</td>\n",
       "    </tr>\n",
       "    <tr>\n",
       "      <th>0</th>\n",
       "      <td>XGB</td>\n",
       "      <td>{'booster': 'dart', 'reg_alpha': 0.02462482957...</td>\n",
       "      <td>0.946981</td>\n",
       "      <td>0.950931</td>\n",
       "      <td>0.946981</td>\n",
       "      <td>0.946076</td>\n",
       "      <td>0.128394</td>\n",
       "      <td>0.940360</td>\n",
       "      <td>0.941152</td>\n",
       "    </tr>\n",
       "    <tr>\n",
       "      <th>0</th>\n",
       "      <td>XGB</td>\n",
       "      <td>{'booster': 'gbtree', 'reg_alpha': 0.504013664...</td>\n",
       "      <td>0.948179</td>\n",
       "      <td>0.956367</td>\n",
       "      <td>0.948179</td>\n",
       "      <td>0.946637</td>\n",
       "      <td>0.123559</td>\n",
       "      <td>0.941710</td>\n",
       "      <td>0.943159</td>\n",
       "    </tr>\n",
       "    <tr>\n",
       "      <th>0</th>\n",
       "      <td>XGB</td>\n",
       "      <td>{'booster': 'gblinear', 'reg_alpha': 2.4870375...</td>\n",
       "      <td>0.108974</td>\n",
       "      <td>0.011875</td>\n",
       "      <td>0.108974</td>\n",
       "      <td>0.021417</td>\n",
       "      <td>2.197331</td>\n",
       "      <td>0.000000</td>\n",
       "      <td>0.000000</td>\n",
       "    </tr>\n",
       "    <tr>\n",
       "      <th>0</th>\n",
       "      <td>RandomForest</td>\n",
       "      <td>{'criterion': 'entropy', 'n_estimators': 76, '...</td>\n",
       "      <td>0.946022</td>\n",
       "      <td>0.950001</td>\n",
       "      <td>0.946022</td>\n",
       "      <td>0.944634</td>\n",
       "      <td>0.162377</td>\n",
       "      <td>0.939281</td>\n",
       "      <td>0.940156</td>\n",
       "    </tr>\n",
       "    <tr>\n",
       "      <th>0</th>\n",
       "      <td>XGB</td>\n",
       "      <td>{'booster': 'gbtree', 'reg_alpha': 0.077578527...</td>\n",
       "      <td>0.947100</td>\n",
       "      <td>0.951281</td>\n",
       "      <td>0.947100</td>\n",
       "      <td>0.946161</td>\n",
       "      <td>0.124536</td>\n",
       "      <td>0.940495</td>\n",
       "      <td>0.941320</td>\n",
       "    </tr>\n",
       "    <tr>\n",
       "      <th>0</th>\n",
       "      <td>XGB</td>\n",
       "      <td>{'booster': 'gbtree', 'reg_alpha': 0.095803863...</td>\n",
       "      <td>0.948358</td>\n",
       "      <td>0.956754</td>\n",
       "      <td>0.948358</td>\n",
       "      <td>0.946921</td>\n",
       "      <td>0.122730</td>\n",
       "      <td>0.941912</td>\n",
       "      <td>0.943389</td>\n",
       "    </tr>\n",
       "    <tr>\n",
       "      <th>0</th>\n",
       "      <td>XGB</td>\n",
       "      <td>{'booster': 'gbtree', 'reg_alpha': 0.277461876...</td>\n",
       "      <td>0.948598</td>\n",
       "      <td>0.957059</td>\n",
       "      <td>0.948598</td>\n",
       "      <td>0.947188</td>\n",
       "      <td>0.122150</td>\n",
       "      <td>0.942182</td>\n",
       "      <td>0.943659</td>\n",
       "    </tr>\n",
       "    <tr>\n",
       "      <th>0</th>\n",
       "      <td>XGB</td>\n",
       "      <td>{'booster': 'gbtree', 'reg_alpha': 0.035136531...</td>\n",
       "      <td>0.947580</td>\n",
       "      <td>0.951655</td>\n",
       "      <td>0.947580</td>\n",
       "      <td>0.946703</td>\n",
       "      <td>0.122023</td>\n",
       "      <td>0.941034</td>\n",
       "      <td>0.941831</td>\n",
       "    </tr>\n",
       "    <tr>\n",
       "      <th>0</th>\n",
       "      <td>XGB</td>\n",
       "      <td>{'booster': 'gbtree', 'reg_alpha': 8.154108007...</td>\n",
       "      <td>0.947580</td>\n",
       "      <td>0.951705</td>\n",
       "      <td>0.947580</td>\n",
       "      <td>0.946680</td>\n",
       "      <td>0.123975</td>\n",
       "      <td>0.941034</td>\n",
       "      <td>0.941841</td>\n",
       "    </tr>\n",
       "    <tr>\n",
       "      <th>0</th>\n",
       "      <td>XGB</td>\n",
       "      <td>{'booster': 'gbtree', 'reg_alpha': 0.274060575...</td>\n",
       "      <td>0.943925</td>\n",
       "      <td>0.947987</td>\n",
       "      <td>0.943925</td>\n",
       "      <td>0.942649</td>\n",
       "      <td>0.144303</td>\n",
       "      <td>0.936923</td>\n",
       "      <td>0.937805</td>\n",
       "    </tr>\n",
       "    <tr>\n",
       "      <th>0</th>\n",
       "      <td>XGB</td>\n",
       "      <td>{'booster': 'gbtree', 'reg_alpha': 0.002817657...</td>\n",
       "      <td>0.947520</td>\n",
       "      <td>0.951573</td>\n",
       "      <td>0.947520</td>\n",
       "      <td>0.946654</td>\n",
       "      <td>0.124124</td>\n",
       "      <td>0.940966</td>\n",
       "      <td>0.941760</td>\n",
       "    </tr>\n",
       "    <tr>\n",
       "      <th>0</th>\n",
       "      <td>XGB</td>\n",
       "      <td>{'booster': 'gbtree', 'reg_alpha': 0.011984598...</td>\n",
       "      <td>0.947580</td>\n",
       "      <td>0.951725</td>\n",
       "      <td>0.947580</td>\n",
       "      <td>0.946621</td>\n",
       "      <td>0.123774</td>\n",
       "      <td>0.941034</td>\n",
       "      <td>0.941854</td>\n",
       "    </tr>\n",
       "    <tr>\n",
       "      <th>0</th>\n",
       "      <td>RandomForest</td>\n",
       "      <td>{'criterion': 'gini', 'n_estimators': 251, 'ma...</td>\n",
       "      <td>0.834172</td>\n",
       "      <td>0.872520</td>\n",
       "      <td>0.834172</td>\n",
       "      <td>0.809420</td>\n",
       "      <td>1.087692</td>\n",
       "      <td>0.813541</td>\n",
       "      <td>0.822640</td>\n",
       "    </tr>\n",
       "    <tr>\n",
       "      <th>0</th>\n",
       "      <td>XGB</td>\n",
       "      <td>{'booster': 'gbtree', 'reg_alpha': 0.163678785...</td>\n",
       "      <td>0.947580</td>\n",
       "      <td>0.951377</td>\n",
       "      <td>0.947580</td>\n",
       "      <td>0.946662</td>\n",
       "      <td>0.122971</td>\n",
       "      <td>0.941033</td>\n",
       "      <td>0.941796</td>\n",
       "    </tr>\n",
       "  </tbody>\n",
       "</table>\n",
       "</div>"
      ],
      "text/plain": [
       "          model                                             params  accuracy  \\\n",
       "0           XGB  {'booster': 'gbtree', 'reg_alpha': 0.170297591...  0.948658   \n",
       "0  RandomForest  {'criterion': 'entropy', 'n_estimators': 234, ...  0.860412   \n",
       "0  RandomForest  {'criterion': 'entropy', 'n_estimators': 137, ...  0.946382   \n",
       "0           XGB  {'booster': 'gblinear', 'reg_alpha': 0.0046587...  0.823269   \n",
       "0           XGB  {'booster': 'dart', 'reg_alpha': 0.35164884571...  0.947520   \n",
       "0  RandomForest  {'criterion': 'log_loss', 'n_estimators': 412,...  0.946382   \n",
       "0           XGB  {'booster': 'gblinear', 'reg_alpha': 1.6462256...  0.108974   \n",
       "0  RandomForest  {'criterion': 'log_loss', 'n_estimators': 423,...  0.946441   \n",
       "0           XGB  {'booster': 'dart', 'reg_alpha': 0.02462482957...  0.946981   \n",
       "0           XGB  {'booster': 'gbtree', 'reg_alpha': 0.504013664...  0.948179   \n",
       "0           XGB  {'booster': 'gblinear', 'reg_alpha': 2.4870375...  0.108974   \n",
       "0  RandomForest  {'criterion': 'entropy', 'n_estimators': 76, '...  0.946022   \n",
       "0           XGB  {'booster': 'gbtree', 'reg_alpha': 0.077578527...  0.947100   \n",
       "0           XGB  {'booster': 'gbtree', 'reg_alpha': 0.095803863...  0.948358   \n",
       "0           XGB  {'booster': 'gbtree', 'reg_alpha': 0.277461876...  0.948598   \n",
       "0           XGB  {'booster': 'gbtree', 'reg_alpha': 0.035136531...  0.947580   \n",
       "0           XGB  {'booster': 'gbtree', 'reg_alpha': 8.154108007...  0.947580   \n",
       "0           XGB  {'booster': 'gbtree', 'reg_alpha': 0.274060575...  0.943925   \n",
       "0           XGB  {'booster': 'gbtree', 'reg_alpha': 0.002817657...  0.947520   \n",
       "0           XGB  {'booster': 'gbtree', 'reg_alpha': 0.011984598...  0.947580   \n",
       "0  RandomForest  {'criterion': 'gini', 'n_estimators': 251, 'ma...  0.834172   \n",
       "0           XGB  {'booster': 'gbtree', 'reg_alpha': 0.163678785...  0.947580   \n",
       "\n",
       "   precision    recall        f1   logloss     kappa       mcc  \n",
       "0   0.957095  0.948658  0.947271  0.130238  0.942249  0.943720  \n",
       "0   0.900175  0.860412  0.843264  0.624378  0.843030  0.850921  \n",
       "0   0.950355  0.946382  0.945059  0.151834  0.939686  0.940546  \n",
       "0   0.826551  0.823269  0.809881  0.919254  0.801247  0.805079  \n",
       "0   0.955912  0.947520  0.946010  0.128318  0.940969  0.942467  \n",
       "0   0.950356  0.946382  0.945051  0.152101  0.939686  0.940547  \n",
       "0   0.011875  0.108974  0.021417  2.197331  0.000000  0.000000  \n",
       "0   0.955559  0.946441  0.944417  0.169805  0.939756  0.941381  \n",
       "0   0.950931  0.946981  0.946076  0.128394  0.940360  0.941152  \n",
       "0   0.956367  0.948179  0.946637  0.123559  0.941710  0.943159  \n",
       "0   0.011875  0.108974  0.021417  2.197331  0.000000  0.000000  \n",
       "0   0.950001  0.946022  0.944634  0.162377  0.939281  0.940156  \n",
       "0   0.951281  0.947100  0.946161  0.124536  0.940495  0.941320  \n",
       "0   0.956754  0.948358  0.946921  0.122730  0.941912  0.943389  \n",
       "0   0.957059  0.948598  0.947188  0.122150  0.942182  0.943659  \n",
       "0   0.951655  0.947580  0.946703  0.122023  0.941034  0.941831  \n",
       "0   0.951705  0.947580  0.946680  0.123975  0.941034  0.941841  \n",
       "0   0.947987  0.943925  0.942649  0.144303  0.936923  0.937805  \n",
       "0   0.951573  0.947520  0.946654  0.124124  0.940966  0.941760  \n",
       "0   0.951725  0.947580  0.946621  0.123774  0.941034  0.941854  \n",
       "0   0.872520  0.834172  0.809420  1.087692  0.813541  0.822640  \n",
       "0   0.951377  0.947580  0.946662  0.122971  0.941033  0.941796  "
      ]
     },
     "execution_count": 151,
     "metadata": {},
     "output_type": "execute_result"
    }
   ],
   "source": [
    "# Concatenating list of dataframes\n",
    "results_df = pd.concat(list_of_dfs)\n",
    "results_df"
   ]
  },
  {
   "cell_type": "code",
   "execution_count": 153,
   "metadata": {},
   "outputs": [
    {
     "data": {
      "text/html": [
       "<div>\n",
       "<style scoped>\n",
       "    .dataframe tbody tr th:only-of-type {\n",
       "        vertical-align: middle;\n",
       "    }\n",
       "\n",
       "    .dataframe tbody tr th {\n",
       "        vertical-align: top;\n",
       "    }\n",
       "\n",
       "    .dataframe thead th {\n",
       "        text-align: right;\n",
       "    }\n",
       "</style>\n",
       "<table border=\"1\" class=\"dataframe\">\n",
       "  <thead>\n",
       "    <tr style=\"text-align: right;\">\n",
       "      <th></th>\n",
       "      <th>model</th>\n",
       "      <th>params</th>\n",
       "      <th>accuracy</th>\n",
       "      <th>precision</th>\n",
       "      <th>recall</th>\n",
       "      <th>f1</th>\n",
       "      <th>logloss</th>\n",
       "      <th>kappa</th>\n",
       "      <th>mcc</th>\n",
       "    </tr>\n",
       "  </thead>\n",
       "  <tbody>\n",
       "    <tr>\n",
       "      <th>0</th>\n",
       "      <td>XGB</td>\n",
       "      <td>{'booster': 'gbtree', 'reg_alpha': 0.170297591...</td>\n",
       "      <td>0.948658</td>\n",
       "      <td>0.957095</td>\n",
       "      <td>0.948658</td>\n",
       "      <td>0.947271</td>\n",
       "      <td>0.130238</td>\n",
       "      <td>0.942249</td>\n",
       "      <td>0.943720</td>\n",
       "    </tr>\n",
       "    <tr>\n",
       "      <th>0</th>\n",
       "      <td>RandomForest</td>\n",
       "      <td>{'criterion': 'entropy', 'n_estimators': 137, ...</td>\n",
       "      <td>0.946382</td>\n",
       "      <td>0.950355</td>\n",
       "      <td>0.946382</td>\n",
       "      <td>0.945059</td>\n",
       "      <td>0.151834</td>\n",
       "      <td>0.939686</td>\n",
       "      <td>0.940546</td>\n",
       "    </tr>\n",
       "  </tbody>\n",
       "</table>\n",
       "</div>"
      ],
      "text/plain": [
       "          model                                             params  accuracy  \\\n",
       "0           XGB  {'booster': 'gbtree', 'reg_alpha': 0.170297591...  0.948658   \n",
       "0  RandomForest  {'criterion': 'entropy', 'n_estimators': 137, ...  0.946382   \n",
       "\n",
       "   precision    recall        f1   logloss     kappa       mcc  \n",
       "0   0.957095  0.948658  0.947271  0.130238  0.942249  0.943720  \n",
       "0   0.950355  0.946382  0.945059  0.151834  0.939686  0.940546  "
      ]
     },
     "execution_count": 153,
     "metadata": {},
     "output_type": "execute_result"
    }
   ],
   "source": [
    "# Getting only the best scores for each model\n",
    "results_df = results_df.sort_values(by = ['f1', 'kappa', 'mcc'], ascending = False).groupby('model').head(1)\n",
    "results_df"
   ]
  },
  {
   "cell_type": "code",
   "execution_count": 203,
   "metadata": {},
   "outputs": [],
   "source": [
    "# Function for plotting all the metrics for all the models\n",
    "def plot_metrics(metrics_list, title, x_ticks, no_of_ticks = 2, y_lim = (0, 1)):\n",
    "    df_metrics = pd.DataFrame(metrics_list, columns = ['accuracy', 'precision', 'recall', 'f1', 'kappa', 'mcc'])\n",
    "    sns.set_palette('RdPu')\n",
    "    df_metrics.plot(kind = 'bar', figsize = (22, 12))\n",
    "    for p in plt.gca().patches:\n",
    "        plt.gca().annotate('{:.2%}'.format(p.get_height()), (p.get_x() + p.get_width() / 2., p.get_height()), ha = 'center', va = 'center', fontsize = 11, color = '#000', xytext = (0, 10), textcoords = 'offset points', fontweight = 'bold')\n",
    "    plt.title(title, fontsize = 16, fontweight = 'bold', pad = 15)\n",
    "    plt.xticks(np.arange(no_of_ticks), x_ticks, rotation = 0)\n",
    "    plt.ylim(y_lim)\n",
    "    plt.tick_params(axis = 'both', which = 'major', labelsize = 11)\n",
    "    plt.legend(labelcolor = '#fff', loc = 'lower right', fontsize = 12, facecolor = '#000', edgecolor = '#fff', framealpha = 0.9, fancybox = True, shadow = True, borderpad = 2)\n",
    "    plt.show()"
   ]
  },
  {
   "cell_type": "code",
   "execution_count": 204,
   "metadata": {},
   "outputs": [
    {
     "data": {
      "image/png": "[encoded data removed]",
      "text/plain": [
       "<Figure size 2200x1200 with 1 Axes>"
      ]
     },
     "metadata": {},
     "output_type": "display_data"
    }
   ],
   "source": [
    "# Getting metrics for each model\n",
    "metrics_list = []\n",
    "model_names = ['XGB', 'RandomForest']\n",
    "for model in model_names:\n",
    "    model_df = results_df[results_df['model'] == model]\n",
    "    metrics_list.append(model_df[['accuracy', 'precision', 'recall', 'f1', 'kappa', 'mcc']].values.tolist()[0])\n",
    "# Plotting metrics for each model\n",
    "# Second last parameter is the number of classifiers on x-axis, last parameter is the y-axis limit (default is (0, 1))\n",
    "plot_metrics(metrics_list, 'Metrics for all the models', model_names, 2, (0.90, 0.96))"
   ]
  }
 ],
 "metadata": {
  "kernelspec": {
   "display_name": "base",
   "language": "python",
   "name": "python3"
  },
  "language_info": {
   "codemirror_mode": {
    "name": "ipython",
    "version": 3
   },
   "file_extension": ".py",
   "mimetype": "text/x-python",
   "name": "python",
   "nbconvert_exporter": "python",
   "pygments_lexer": "ipython3",
   "version": "3.9.15"
  },
  "orig_nbformat": 4
 },
 "nbformat": 4,
 "nbformat_minor": 2
}
